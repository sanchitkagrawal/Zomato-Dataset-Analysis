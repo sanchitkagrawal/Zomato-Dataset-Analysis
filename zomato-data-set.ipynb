{
 "cells": [
  {
   "cell_type": "markdown",
   "id": "39cb7e52",
   "metadata": {
    "papermill": {
     "duration": 0.036812,
     "end_time": "2021-08-12T11:55:20.378218",
     "exception": false,
     "start_time": "2021-08-12T11:55:20.341406",
     "status": "completed"
    },
    "tags": []
   },
   "source": [
    "# Import Libraries"
   ]
  },
  {
   "cell_type": "code",
   "execution_count": 1,
   "id": "13767bf1",
   "metadata": {
    "_cell_guid": "b1076dfc-b9ad-4769-8c92-a6c4dae69d19",
    "_uuid": "8f2839f25d086af736a60e9eeb907d3b93b6e0e5",
    "execution": {
     "iopub.execute_input": "2021-08-12T11:55:20.475379Z",
     "iopub.status.busy": "2021-08-12T11:55:20.465783Z",
     "iopub.status.idle": "2021-08-12T11:55:21.435394Z",
     "shell.execute_reply": "2021-08-12T11:55:21.435902Z",
     "shell.execute_reply.started": "2021-08-12T11:34:09.628959Z"
    },
    "papermill": {
     "duration": 1.019106,
     "end_time": "2021-08-12T11:55:21.436228",
     "exception": false,
     "start_time": "2021-08-12T11:55:20.417122",
     "status": "completed"
    },
    "tags": []
   },
   "outputs": [],
   "source": [
    "import numpy as np\n",
    "import pandas as pd \n",
    "import matplotlib.pyplot as plt\n",
    "import seaborn as sns"
   ]
  },
  {
   "cell_type": "markdown",
   "id": "425881dd",
   "metadata": {
    "papermill": {
     "duration": 0.03673,
     "end_time": "2021-08-12T11:55:21.508967",
     "exception": false,
     "start_time": "2021-08-12T11:55:21.472237",
     "status": "completed"
    },
    "tags": []
   },
   "source": [
    "# Reading CSV"
   ]
  },
  {
   "cell_type": "code",
   "execution_count": 2,
   "id": "2d9e0cb2",
   "metadata": {
    "execution": {
     "iopub.execute_input": "2021-08-12T11:55:21.582575Z",
     "iopub.status.busy": "2021-08-12T11:55:21.581977Z",
     "iopub.status.idle": "2021-08-12T11:55:34.406356Z",
     "shell.execute_reply": "2021-08-12T11:55:34.406859Z",
     "shell.execute_reply.started": "2021-08-12T11:36:49.899443Z"
    },
    "papermill": {
     "duration": 12.862987,
     "end_time": "2021-08-12T11:55:34.407048",
     "exception": false,
     "start_time": "2021-08-12T11:55:21.544061",
     "status": "completed"
    },
    "tags": []
   },
   "outputs": [
    {
     "data": {
      "text/html": [
       "<div>\n",
       "<style scoped>\n",
       "    .dataframe tbody tr th:only-of-type {\n",
       "        vertical-align: middle;\n",
       "    }\n",
       "\n",
       "    .dataframe tbody tr th {\n",
       "        vertical-align: top;\n",
       "    }\n",
       "\n",
       "    .dataframe thead th {\n",
       "        text-align: right;\n",
       "    }\n",
       "</style>\n",
       "<table border=\"1\" class=\"dataframe\">\n",
       "  <thead>\n",
       "    <tr style=\"text-align: right;\">\n",
       "      <th></th>\n",
       "      <th>url</th>\n",
       "      <th>address</th>\n",
       "      <th>name</th>\n",
       "      <th>online_order</th>\n",
       "      <th>book_table</th>\n",
       "      <th>rate</th>\n",
       "      <th>votes</th>\n",
       "      <th>phone</th>\n",
       "      <th>location</th>\n",
       "      <th>rest_type</th>\n",
       "      <th>dish_liked</th>\n",
       "      <th>cuisines</th>\n",
       "      <th>approx_cost(for two people)</th>\n",
       "      <th>reviews_list</th>\n",
       "      <th>menu_item</th>\n",
       "      <th>listed_in(type)</th>\n",
       "      <th>listed_in(city)</th>\n",
       "    </tr>\n",
       "  </thead>\n",
       "  <tbody>\n",
       "    <tr>\n",
       "      <th>0</th>\n",
       "      <td>https://www.zomato.com/bangalore/jalsa-banasha...</td>\n",
       "      <td>942, 21st Main Road, 2nd Stage, Banashankari, ...</td>\n",
       "      <td>Jalsa</td>\n",
       "      <td>Yes</td>\n",
       "      <td>Yes</td>\n",
       "      <td>4.1/5</td>\n",
       "      <td>775</td>\n",
       "      <td>080 42297555\\r\\n+91 9743772233</td>\n",
       "      <td>Banashankari</td>\n",
       "      <td>Casual Dining</td>\n",
       "      <td>Pasta, Lunch Buffet, Masala Papad, Paneer Laja...</td>\n",
       "      <td>North Indian, Mughlai, Chinese</td>\n",
       "      <td>800</td>\n",
       "      <td>[('Rated 4.0', 'RATED\\n  A beautiful place to ...</td>\n",
       "      <td>[]</td>\n",
       "      <td>Buffet</td>\n",
       "      <td>Banashankari</td>\n",
       "    </tr>\n",
       "    <tr>\n",
       "      <th>1</th>\n",
       "      <td>https://www.zomato.com/bangalore/spice-elephan...</td>\n",
       "      <td>2nd Floor, 80 Feet Road, Near Big Bazaar, 6th ...</td>\n",
       "      <td>Spice Elephant</td>\n",
       "      <td>Yes</td>\n",
       "      <td>No</td>\n",
       "      <td>4.1/5</td>\n",
       "      <td>787</td>\n",
       "      <td>080 41714161</td>\n",
       "      <td>Banashankari</td>\n",
       "      <td>Casual Dining</td>\n",
       "      <td>Momos, Lunch Buffet, Chocolate Nirvana, Thai G...</td>\n",
       "      <td>Chinese, North Indian, Thai</td>\n",
       "      <td>800</td>\n",
       "      <td>[('Rated 4.0', 'RATED\\n  Had been here for din...</td>\n",
       "      <td>[]</td>\n",
       "      <td>Buffet</td>\n",
       "      <td>Banashankari</td>\n",
       "    </tr>\n",
       "    <tr>\n",
       "      <th>2</th>\n",
       "      <td>https://www.zomato.com/SanchurroBangalore?cont...</td>\n",
       "      <td>1112, Next to KIMS Medical College, 17th Cross...</td>\n",
       "      <td>San Churro Cafe</td>\n",
       "      <td>Yes</td>\n",
       "      <td>No</td>\n",
       "      <td>3.8/5</td>\n",
       "      <td>918</td>\n",
       "      <td>+91 9663487993</td>\n",
       "      <td>Banashankari</td>\n",
       "      <td>Cafe, Casual Dining</td>\n",
       "      <td>Churros, Cannelloni, Minestrone Soup, Hot Choc...</td>\n",
       "      <td>Cafe, Mexican, Italian</td>\n",
       "      <td>800</td>\n",
       "      <td>[('Rated 3.0', \"RATED\\n  Ambience is not that ...</td>\n",
       "      <td>[]</td>\n",
       "      <td>Buffet</td>\n",
       "      <td>Banashankari</td>\n",
       "    </tr>\n",
       "    <tr>\n",
       "      <th>3</th>\n",
       "      <td>https://www.zomato.com/bangalore/addhuri-udupi...</td>\n",
       "      <td>1st Floor, Annakuteera, 3rd Stage, Banashankar...</td>\n",
       "      <td>Addhuri Udupi Bhojana</td>\n",
       "      <td>No</td>\n",
       "      <td>No</td>\n",
       "      <td>3.7/5</td>\n",
       "      <td>88</td>\n",
       "      <td>+91 9620009302</td>\n",
       "      <td>Banashankari</td>\n",
       "      <td>Quick Bites</td>\n",
       "      <td>Masala Dosa</td>\n",
       "      <td>South Indian, North Indian</td>\n",
       "      <td>300</td>\n",
       "      <td>[('Rated 4.0', \"RATED\\n  Great food and proper...</td>\n",
       "      <td>[]</td>\n",
       "      <td>Buffet</td>\n",
       "      <td>Banashankari</td>\n",
       "    </tr>\n",
       "    <tr>\n",
       "      <th>4</th>\n",
       "      <td>https://www.zomato.com/bangalore/grand-village...</td>\n",
       "      <td>10, 3rd Floor, Lakshmi Associates, Gandhi Baza...</td>\n",
       "      <td>Grand Village</td>\n",
       "      <td>No</td>\n",
       "      <td>No</td>\n",
       "      <td>3.8/5</td>\n",
       "      <td>166</td>\n",
       "      <td>+91 8026612447\\r\\n+91 9901210005</td>\n",
       "      <td>Basavanagudi</td>\n",
       "      <td>Casual Dining</td>\n",
       "      <td>Panipuri, Gol Gappe</td>\n",
       "      <td>North Indian, Rajasthani</td>\n",
       "      <td>600</td>\n",
       "      <td>[('Rated 4.0', 'RATED\\n  Very good restaurant ...</td>\n",
       "      <td>[]</td>\n",
       "      <td>Buffet</td>\n",
       "      <td>Banashankari</td>\n",
       "    </tr>\n",
       "  </tbody>\n",
       "</table>\n",
       "</div>"
      ],
      "text/plain": [
       "                                                 url  \\\n",
       "0  https://www.zomato.com/bangalore/jalsa-banasha...   \n",
       "1  https://www.zomato.com/bangalore/spice-elephan...   \n",
       "2  https://www.zomato.com/SanchurroBangalore?cont...   \n",
       "3  https://www.zomato.com/bangalore/addhuri-udupi...   \n",
       "4  https://www.zomato.com/bangalore/grand-village...   \n",
       "\n",
       "                                             address                   name  \\\n",
       "0  942, 21st Main Road, 2nd Stage, Banashankari, ...                  Jalsa   \n",
       "1  2nd Floor, 80 Feet Road, Near Big Bazaar, 6th ...         Spice Elephant   \n",
       "2  1112, Next to KIMS Medical College, 17th Cross...        San Churro Cafe   \n",
       "3  1st Floor, Annakuteera, 3rd Stage, Banashankar...  Addhuri Udupi Bhojana   \n",
       "4  10, 3rd Floor, Lakshmi Associates, Gandhi Baza...          Grand Village   \n",
       "\n",
       "  online_order book_table   rate  votes                             phone  \\\n",
       "0          Yes        Yes  4.1/5    775    080 42297555\\r\\n+91 9743772233   \n",
       "1          Yes         No  4.1/5    787                      080 41714161   \n",
       "2          Yes         No  3.8/5    918                    +91 9663487993   \n",
       "3           No         No  3.7/5     88                    +91 9620009302   \n",
       "4           No         No  3.8/5    166  +91 8026612447\\r\\n+91 9901210005   \n",
       "\n",
       "       location            rest_type  \\\n",
       "0  Banashankari        Casual Dining   \n",
       "1  Banashankari        Casual Dining   \n",
       "2  Banashankari  Cafe, Casual Dining   \n",
       "3  Banashankari          Quick Bites   \n",
       "4  Basavanagudi        Casual Dining   \n",
       "\n",
       "                                          dish_liked  \\\n",
       "0  Pasta, Lunch Buffet, Masala Papad, Paneer Laja...   \n",
       "1  Momos, Lunch Buffet, Chocolate Nirvana, Thai G...   \n",
       "2  Churros, Cannelloni, Minestrone Soup, Hot Choc...   \n",
       "3                                        Masala Dosa   \n",
       "4                                Panipuri, Gol Gappe   \n",
       "\n",
       "                         cuisines approx_cost(for two people)  \\\n",
       "0  North Indian, Mughlai, Chinese                         800   \n",
       "1     Chinese, North Indian, Thai                         800   \n",
       "2          Cafe, Mexican, Italian                         800   \n",
       "3      South Indian, North Indian                         300   \n",
       "4        North Indian, Rajasthani                         600   \n",
       "\n",
       "                                        reviews_list menu_item  \\\n",
       "0  [('Rated 4.0', 'RATED\\n  A beautiful place to ...        []   \n",
       "1  [('Rated 4.0', 'RATED\\n  Had been here for din...        []   \n",
       "2  [('Rated 3.0', \"RATED\\n  Ambience is not that ...        []   \n",
       "3  [('Rated 4.0', \"RATED\\n  Great food and proper...        []   \n",
       "4  [('Rated 4.0', 'RATED\\n  Very good restaurant ...        []   \n",
       "\n",
       "  listed_in(type) listed_in(city)  \n",
       "0          Buffet    Banashankari  \n",
       "1          Buffet    Banashankari  \n",
       "2          Buffet    Banashankari  \n",
       "3          Buffet    Banashankari  \n",
       "4          Buffet    Banashankari  "
      ]
     },
     "execution_count": 2,
     "metadata": {},
     "output_type": "execute_result"
    }
   ],
   "source": [
    "df = pd.read_csv('../input/zomato-bangalore-restaurants/zomato.csv')\n",
    "df.head()"
   ]
  },
  {
   "cell_type": "code",
   "execution_count": 3,
   "id": "af814a23",
   "metadata": {
    "execution": {
     "iopub.execute_input": "2021-08-12T11:55:34.484579Z",
     "iopub.status.busy": "2021-08-12T11:55:34.483939Z",
     "iopub.status.idle": "2021-08-12T11:55:34.488770Z",
     "shell.execute_reply": "2021-08-12T11:55:34.489455Z",
     "shell.execute_reply.started": "2021-08-12T11:37:04.926006Z"
    },
    "papermill": {
     "duration": 0.045778,
     "end_time": "2021-08-12T11:55:34.489635",
     "exception": false,
     "start_time": "2021-08-12T11:55:34.443857",
     "status": "completed"
    },
    "tags": []
   },
   "outputs": [
    {
     "data": {
      "text/plain": [
       "(51717, 17)"
      ]
     },
     "execution_count": 3,
     "metadata": {},
     "output_type": "execute_result"
    }
   ],
   "source": [
    "df.shape"
   ]
  },
  {
   "cell_type": "code",
   "execution_count": 4,
   "id": "b6e3ad86",
   "metadata": {
    "execution": {
     "iopub.execute_input": "2021-08-12T11:55:34.566263Z",
     "iopub.status.busy": "2021-08-12T11:55:34.565638Z",
     "iopub.status.idle": "2021-08-12T11:55:34.570544Z",
     "shell.execute_reply": "2021-08-12T11:55:34.571077Z",
     "shell.execute_reply.started": "2021-08-12T11:38:01.310916Z"
    },
    "papermill": {
     "duration": 0.04499,
     "end_time": "2021-08-12T11:55:34.571264",
     "exception": false,
     "start_time": "2021-08-12T11:55:34.526274",
     "status": "completed"
    },
    "tags": []
   },
   "outputs": [
    {
     "data": {
      "text/plain": [
       "Index(['url', 'address', 'name', 'online_order', 'book_table', 'rate', 'votes',\n",
       "       'phone', 'location', 'rest_type', 'dish_liked', 'cuisines',\n",
       "       'approx_cost(for two people)', 'reviews_list', 'menu_item',\n",
       "       'listed_in(type)', 'listed_in(city)'],\n",
       "      dtype='object')"
      ]
     },
     "execution_count": 4,
     "metadata": {},
     "output_type": "execute_result"
    }
   ],
   "source": [
    "df.columns"
   ]
  },
  {
   "cell_type": "code",
   "execution_count": 5,
   "id": "e79fc3f2",
   "metadata": {
    "execution": {
     "iopub.execute_input": "2021-08-12T11:55:34.649168Z",
     "iopub.status.busy": "2021-08-12T11:55:34.648477Z",
     "iopub.status.idle": "2021-08-12T11:55:34.674149Z",
     "shell.execute_reply": "2021-08-12T11:55:34.673480Z",
     "shell.execute_reply.started": "2021-08-12T11:38:35.071667Z"
    },
    "papermill": {
     "duration": 0.066549,
     "end_time": "2021-08-12T11:55:34.674296",
     "exception": false,
     "start_time": "2021-08-12T11:55:34.607747",
     "status": "completed"
    },
    "tags": []
   },
   "outputs": [
    {
     "data": {
      "text/html": [
       "<div>\n",
       "<style scoped>\n",
       "    .dataframe tbody tr th:only-of-type {\n",
       "        vertical-align: middle;\n",
       "    }\n",
       "\n",
       "    .dataframe tbody tr th {\n",
       "        vertical-align: top;\n",
       "    }\n",
       "\n",
       "    .dataframe thead th {\n",
       "        text-align: right;\n",
       "    }\n",
       "</style>\n",
       "<table border=\"1\" class=\"dataframe\">\n",
       "  <thead>\n",
       "    <tr style=\"text-align: right;\">\n",
       "      <th></th>\n",
       "      <th>name</th>\n",
       "      <th>online_order</th>\n",
       "      <th>book_table</th>\n",
       "      <th>rate</th>\n",
       "      <th>votes</th>\n",
       "      <th>location</th>\n",
       "      <th>rest_type</th>\n",
       "      <th>cuisines</th>\n",
       "      <th>approx_cost(for two people)</th>\n",
       "      <th>listed_in(type)</th>\n",
       "      <th>listed_in(city)</th>\n",
       "    </tr>\n",
       "  </thead>\n",
       "  <tbody>\n",
       "    <tr>\n",
       "      <th>0</th>\n",
       "      <td>Jalsa</td>\n",
       "      <td>Yes</td>\n",
       "      <td>Yes</td>\n",
       "      <td>4.1/5</td>\n",
       "      <td>775</td>\n",
       "      <td>Banashankari</td>\n",
       "      <td>Casual Dining</td>\n",
       "      <td>North Indian, Mughlai, Chinese</td>\n",
       "      <td>800</td>\n",
       "      <td>Buffet</td>\n",
       "      <td>Banashankari</td>\n",
       "    </tr>\n",
       "    <tr>\n",
       "      <th>1</th>\n",
       "      <td>Spice Elephant</td>\n",
       "      <td>Yes</td>\n",
       "      <td>No</td>\n",
       "      <td>4.1/5</td>\n",
       "      <td>787</td>\n",
       "      <td>Banashankari</td>\n",
       "      <td>Casual Dining</td>\n",
       "      <td>Chinese, North Indian, Thai</td>\n",
       "      <td>800</td>\n",
       "      <td>Buffet</td>\n",
       "      <td>Banashankari</td>\n",
       "    </tr>\n",
       "    <tr>\n",
       "      <th>2</th>\n",
       "      <td>San Churro Cafe</td>\n",
       "      <td>Yes</td>\n",
       "      <td>No</td>\n",
       "      <td>3.8/5</td>\n",
       "      <td>918</td>\n",
       "      <td>Banashankari</td>\n",
       "      <td>Cafe, Casual Dining</td>\n",
       "      <td>Cafe, Mexican, Italian</td>\n",
       "      <td>800</td>\n",
       "      <td>Buffet</td>\n",
       "      <td>Banashankari</td>\n",
       "    </tr>\n",
       "    <tr>\n",
       "      <th>3</th>\n",
       "      <td>Addhuri Udupi Bhojana</td>\n",
       "      <td>No</td>\n",
       "      <td>No</td>\n",
       "      <td>3.7/5</td>\n",
       "      <td>88</td>\n",
       "      <td>Banashankari</td>\n",
       "      <td>Quick Bites</td>\n",
       "      <td>South Indian, North Indian</td>\n",
       "      <td>300</td>\n",
       "      <td>Buffet</td>\n",
       "      <td>Banashankari</td>\n",
       "    </tr>\n",
       "    <tr>\n",
       "      <th>4</th>\n",
       "      <td>Grand Village</td>\n",
       "      <td>No</td>\n",
       "      <td>No</td>\n",
       "      <td>3.8/5</td>\n",
       "      <td>166</td>\n",
       "      <td>Basavanagudi</td>\n",
       "      <td>Casual Dining</td>\n",
       "      <td>North Indian, Rajasthani</td>\n",
       "      <td>600</td>\n",
       "      <td>Buffet</td>\n",
       "      <td>Banashankari</td>\n",
       "    </tr>\n",
       "  </tbody>\n",
       "</table>\n",
       "</div>"
      ],
      "text/plain": [
       "                    name online_order book_table   rate  votes      location  \\\n",
       "0                  Jalsa          Yes        Yes  4.1/5    775  Banashankari   \n",
       "1         Spice Elephant          Yes         No  4.1/5    787  Banashankari   \n",
       "2        San Churro Cafe          Yes         No  3.8/5    918  Banashankari   \n",
       "3  Addhuri Udupi Bhojana           No         No  3.7/5     88  Banashankari   \n",
       "4          Grand Village           No         No  3.8/5    166  Basavanagudi   \n",
       "\n",
       "             rest_type                        cuisines  \\\n",
       "0        Casual Dining  North Indian, Mughlai, Chinese   \n",
       "1        Casual Dining     Chinese, North Indian, Thai   \n",
       "2  Cafe, Casual Dining          Cafe, Mexican, Italian   \n",
       "3          Quick Bites      South Indian, North Indian   \n",
       "4        Casual Dining        North Indian, Rajasthani   \n",
       "\n",
       "  approx_cost(for two people) listed_in(type) listed_in(city)  \n",
       "0                         800          Buffet    Banashankari  \n",
       "1                         800          Buffet    Banashankari  \n",
       "2                         800          Buffet    Banashankari  \n",
       "3                         300          Buffet    Banashankari  \n",
       "4                         600          Buffet    Banashankari  "
      ]
     },
     "execution_count": 5,
     "metadata": {},
     "output_type": "execute_result"
    }
   ],
   "source": [
    "df = df.drop(['url', 'address', 'phone', 'menu_item', 'dish_liked', 'reviews_list'], axis = 1)\n",
    "df.head()"
   ]
  },
  {
   "cell_type": "code",
   "execution_count": 6,
   "id": "9ce15579",
   "metadata": {
    "execution": {
     "iopub.execute_input": "2021-08-12T11:55:34.804373Z",
     "iopub.status.busy": "2021-08-12T11:55:34.803624Z",
     "iopub.status.idle": "2021-08-12T11:55:34.821693Z",
     "shell.execute_reply": "2021-08-12T11:55:34.822177Z",
     "shell.execute_reply.started": "2021-08-12T11:38:51.301590Z"
    },
    "papermill": {
     "duration": 0.110887,
     "end_time": "2021-08-12T11:55:34.822370",
     "exception": false,
     "start_time": "2021-08-12T11:55:34.711483",
     "status": "completed"
    },
    "tags": []
   },
   "outputs": [
    {
     "name": "stdout",
     "output_type": "stream",
     "text": [
      "<class 'pandas.core.frame.DataFrame'>\n",
      "RangeIndex: 51717 entries, 0 to 51716\n",
      "Data columns (total 11 columns):\n",
      " #   Column                       Non-Null Count  Dtype \n",
      "---  ------                       --------------  ----- \n",
      " 0   name                         51717 non-null  object\n",
      " 1   online_order                 51717 non-null  object\n",
      " 2   book_table                   51717 non-null  object\n",
      " 3   rate                         43942 non-null  object\n",
      " 4   votes                        51717 non-null  int64 \n",
      " 5   location                     51696 non-null  object\n",
      " 6   rest_type                    51490 non-null  object\n",
      " 7   cuisines                     51672 non-null  object\n",
      " 8   approx_cost(for two people)  51371 non-null  object\n",
      " 9   listed_in(type)              51717 non-null  object\n",
      " 10  listed_in(city)              51717 non-null  object\n",
      "dtypes: int64(1), object(10)\n",
      "memory usage: 4.3+ MB\n"
     ]
    }
   ],
   "source": [
    "df.info()"
   ]
  },
  {
   "cell_type": "markdown",
   "id": "eda005ef",
   "metadata": {
    "papermill": {
     "duration": 0.037683,
     "end_time": "2021-08-12T11:55:34.898032",
     "exception": false,
     "start_time": "2021-08-12T11:55:34.860349",
     "status": "completed"
    },
    "tags": []
   },
   "source": [
    "# Duplicates Drop"
   ]
  },
  {
   "cell_type": "code",
   "execution_count": 7,
   "id": "a23d9b77",
   "metadata": {
    "execution": {
     "iopub.execute_input": "2021-08-12T11:55:34.983160Z",
     "iopub.status.busy": "2021-08-12T11:55:34.982170Z",
     "iopub.status.idle": "2021-08-12T11:55:35.053183Z",
     "shell.execute_reply": "2021-08-12T11:55:35.053720Z",
     "shell.execute_reply.started": "2021-08-12T11:39:17.490941Z"
    },
    "papermill": {
     "duration": 0.117775,
     "end_time": "2021-08-12T11:55:35.053942",
     "exception": false,
     "start_time": "2021-08-12T11:55:34.936167",
     "status": "completed"
    },
    "tags": []
   },
   "outputs": [
    {
     "data": {
      "text/plain": [
       "(51609, 11)"
      ]
     },
     "execution_count": 7,
     "metadata": {},
     "output_type": "execute_result"
    }
   ],
   "source": [
    "df.drop_duplicates(inplace = True)\n",
    "df.shape"
   ]
  },
  {
   "cell_type": "markdown",
   "id": "1d930014",
   "metadata": {
    "papermill": {
     "duration": 0.038432,
     "end_time": "2021-08-12T11:55:35.132344",
     "exception": false,
     "start_time": "2021-08-12T11:55:35.093912",
     "status": "completed"
    },
    "tags": []
   },
   "source": [
    "# Cleaning Rate Column"
   ]
  },
  {
   "cell_type": "code",
   "execution_count": 8,
   "id": "4099e46e",
   "metadata": {
    "execution": {
     "iopub.execute_input": "2021-08-12T11:55:35.219665Z",
     "iopub.status.busy": "2021-08-12T11:55:35.218806Z",
     "iopub.status.idle": "2021-08-12T11:55:35.223328Z",
     "shell.execute_reply": "2021-08-12T11:55:35.222692Z",
     "shell.execute_reply.started": "2021-08-12T11:40:19.125301Z"
    },
    "papermill": {
     "duration": 0.053389,
     "end_time": "2021-08-12T11:55:35.223480",
     "exception": false,
     "start_time": "2021-08-12T11:55:35.170091",
     "status": "completed"
    },
    "tags": []
   },
   "outputs": [
    {
     "data": {
      "text/plain": [
       "array(['4.1/5', '3.8/5', '3.7/5', '3.6/5', '4.6/5', '4.0/5', '4.2/5',\n",
       "       '3.9/5', '3.1/5', '3.0/5', '3.2/5', '3.3/5', '2.8/5', '4.4/5',\n",
       "       '4.3/5', 'NEW', '2.9/5', '3.5/5', nan, '2.6/5', '3.8 /5', '3.4/5',\n",
       "       '4.5/5', '2.5/5', '2.7/5', '4.7/5', '2.4/5', '2.2/5', '2.3/5',\n",
       "       '3.4 /5', '-', '3.6 /5', '4.8/5', '3.9 /5', '4.2 /5', '4.0 /5',\n",
       "       '4.1 /5', '3.7 /5', '3.1 /5', '2.9 /5', '3.3 /5', '2.8 /5',\n",
       "       '3.5 /5', '2.7 /5', '2.5 /5', '3.2 /5', '2.6 /5', '4.5 /5',\n",
       "       '4.3 /5', '4.4 /5', '4.9/5', '2.1/5', '2.0/5', '1.8/5', '4.6 /5',\n",
       "       '4.9 /5', '3.0 /5', '4.8 /5', '2.3 /5', '4.7 /5', '2.4 /5',\n",
       "       '2.1 /5', '2.2 /5', '2.0 /5', '1.8 /5'], dtype=object)"
      ]
     },
     "execution_count": 8,
     "metadata": {},
     "output_type": "execute_result"
    }
   ],
   "source": [
    "df['rate'].unique()"
   ]
  },
  {
   "cell_type": "markdown",
   "id": "f477d32f",
   "metadata": {
    "papermill": {
     "duration": 0.038139,
     "end_time": "2021-08-12T11:55:35.300527",
     "exception": false,
     "start_time": "2021-08-12T11:55:35.262388",
     "status": "completed"
    },
    "tags": []
   },
   "source": [
    "#  \"NEW\" , \"-\" and \"/5\" from Rate Column Remov"
   ]
  },
  {
   "cell_type": "code",
   "execution_count": 9,
   "id": "fbec579c",
   "metadata": {
    "execution": {
     "iopub.execute_input": "2021-08-12T11:55:35.389134Z",
     "iopub.status.busy": "2021-08-12T11:55:35.383904Z",
     "iopub.status.idle": "2021-08-12T11:55:35.452947Z",
     "shell.execute_reply": "2021-08-12T11:55:35.452405Z",
     "shell.execute_reply.started": "2021-08-12T11:41:44.418000Z"
    },
    "papermill": {
     "duration": 0.113619,
     "end_time": "2021-08-12T11:55:35.453084",
     "exception": false,
     "start_time": "2021-08-12T11:55:35.339465",
     "status": "completed"
    },
    "tags": []
   },
   "outputs": [
    {
     "data": {
      "text/plain": [
       "0    4.1\n",
       "1    4.1\n",
       "2    3.8\n",
       "3    3.7\n",
       "4    3.8\n",
       "Name: rate, dtype: float64"
      ]
     },
     "execution_count": 9,
     "metadata": {},
     "output_type": "execute_result"
    }
   ],
   "source": [
    "def handlerate(value):\n",
    "    if(value=='NEW' or value=='-'):\n",
    "        return np.nan\n",
    "    else:\n",
    "        value = str(value).split('/')\n",
    "        value = value[0]\n",
    "        return float(value)\n",
    "    \n",
    "df['rate'] = df['rate'].apply(handlerate)\n",
    "df['rate'].head()"
   ]
  },
  {
   "cell_type": "markdown",
   "id": "2f805405",
   "metadata": {
    "papermill": {
     "duration": 0.038621,
     "end_time": "2021-08-12T11:55:35.530143",
     "exception": false,
     "start_time": "2021-08-12T11:55:35.491522",
     "status": "completed"
    },
    "tags": []
   },
   "source": [
    " Null Values in Rate Column"
   ]
  },
  {
   "cell_type": "code",
   "execution_count": 10,
   "id": "70f2e680",
   "metadata": {
    "execution": {
     "iopub.execute_input": "2021-08-12T11:55:35.613412Z",
     "iopub.status.busy": "2021-08-12T11:55:35.612275Z",
     "iopub.status.idle": "2021-08-12T11:55:35.618977Z",
     "shell.execute_reply": "2021-08-12T11:55:35.619470Z",
     "shell.execute_reply.started": "2021-08-12T11:42:07.637525Z"
    },
    "papermill": {
     "duration": 0.051032,
     "end_time": "2021-08-12T11:55:35.619645",
     "exception": false,
     "start_time": "2021-08-12T11:55:35.568613",
     "status": "completed"
    },
    "tags": []
   },
   "outputs": [
    {
     "data": {
      "text/plain": [
       "0"
      ]
     },
     "execution_count": 10,
     "metadata": {},
     "output_type": "execute_result"
    }
   ],
   "source": [
    "df['rate'].fillna(df['rate'].mean(), inplace = True)\n",
    "df['rate'].isnull().sum()"
   ]
  },
  {
   "cell_type": "code",
   "execution_count": 11,
   "id": "1fbe57b5",
   "metadata": {
    "execution": {
     "iopub.execute_input": "2021-08-12T11:55:35.747190Z",
     "iopub.status.busy": "2021-08-12T11:55:35.746407Z",
     "iopub.status.idle": "2021-08-12T11:55:35.758709Z",
     "shell.execute_reply": "2021-08-12T11:55:35.759277Z",
     "shell.execute_reply.started": "2021-08-12T11:42:14.355257Z"
    },
    "papermill": {
     "duration": 0.101141,
     "end_time": "2021-08-12T11:55:35.759453",
     "exception": false,
     "start_time": "2021-08-12T11:55:35.658312",
     "status": "completed"
    },
    "tags": []
   },
   "outputs": [
    {
     "name": "stdout",
     "output_type": "stream",
     "text": [
      "<class 'pandas.core.frame.DataFrame'>\n",
      "Int64Index: 51609 entries, 0 to 51716\n",
      "Data columns (total 11 columns):\n",
      " #   Column                       Non-Null Count  Dtype  \n",
      "---  ------                       --------------  -----  \n",
      " 0   name                         51609 non-null  object \n",
      " 1   online_order                 51609 non-null  object \n",
      " 2   book_table                   51609 non-null  object \n",
      " 3   rate                         51609 non-null  float64\n",
      " 4   votes                        51609 non-null  int64  \n",
      " 5   location                     51588 non-null  object \n",
      " 6   rest_type                    51382 non-null  object \n",
      " 7   cuisines                     51564 non-null  object \n",
      " 8   approx_cost(for two people)  51265 non-null  object \n",
      " 9   listed_in(type)              51609 non-null  object \n",
      " 10  listed_in(city)              51609 non-null  object \n",
      "dtypes: float64(1), int64(1), object(9)\n",
      "memory usage: 4.7+ MB\n"
     ]
    }
   ],
   "source": [
    "df.info()"
   ]
  },
  {
   "cell_type": "markdown",
   "id": "0885aceb",
   "metadata": {
    "papermill": {
     "duration": 0.038651,
     "end_time": "2021-08-12T11:55:35.837424",
     "exception": false,
     "start_time": "2021-08-12T11:55:35.798773",
     "status": "completed"
    },
    "tags": []
   },
   "source": [
    "# dropping null values"
   ]
  },
  {
   "cell_type": "code",
   "execution_count": 12,
   "id": "b9bfe3df",
   "metadata": {
    "execution": {
     "iopub.execute_input": "2021-08-12T11:55:35.964790Z",
     "iopub.status.busy": "2021-08-12T11:55:35.964128Z",
     "iopub.status.idle": "2021-08-12T11:55:36.008896Z",
     "shell.execute_reply": "2021-08-12T11:55:36.008353Z",
     "shell.execute_reply.started": "2021-08-12T11:42:34.333462Z"
    },
    "papermill": {
     "duration": 0.13261,
     "end_time": "2021-08-12T11:55:36.009047",
     "exception": false,
     "start_time": "2021-08-12T11:55:35.876437",
     "status": "completed"
    },
    "tags": []
   },
   "outputs": [
    {
     "data": {
      "text/html": [
       "<div>\n",
       "<style scoped>\n",
       "    .dataframe tbody tr th:only-of-type {\n",
       "        vertical-align: middle;\n",
       "    }\n",
       "\n",
       "    .dataframe tbody tr th {\n",
       "        vertical-align: top;\n",
       "    }\n",
       "\n",
       "    .dataframe thead th {\n",
       "        text-align: right;\n",
       "    }\n",
       "</style>\n",
       "<table border=\"1\" class=\"dataframe\">\n",
       "  <thead>\n",
       "    <tr style=\"text-align: right;\">\n",
       "      <th></th>\n",
       "      <th>name</th>\n",
       "      <th>online_order</th>\n",
       "      <th>book_table</th>\n",
       "      <th>rate</th>\n",
       "      <th>votes</th>\n",
       "      <th>location</th>\n",
       "      <th>rest_type</th>\n",
       "      <th>cuisines</th>\n",
       "      <th>approx_cost(for two people)</th>\n",
       "      <th>listed_in(type)</th>\n",
       "      <th>listed_in(city)</th>\n",
       "    </tr>\n",
       "  </thead>\n",
       "  <tbody>\n",
       "    <tr>\n",
       "      <th>0</th>\n",
       "      <td>Jalsa</td>\n",
       "      <td>Yes</td>\n",
       "      <td>Yes</td>\n",
       "      <td>4.1</td>\n",
       "      <td>775</td>\n",
       "      <td>Banashankari</td>\n",
       "      <td>Casual Dining</td>\n",
       "      <td>North Indian, Mughlai, Chinese</td>\n",
       "      <td>800</td>\n",
       "      <td>Buffet</td>\n",
       "      <td>Banashankari</td>\n",
       "    </tr>\n",
       "    <tr>\n",
       "      <th>1</th>\n",
       "      <td>Spice Elephant</td>\n",
       "      <td>Yes</td>\n",
       "      <td>No</td>\n",
       "      <td>4.1</td>\n",
       "      <td>787</td>\n",
       "      <td>Banashankari</td>\n",
       "      <td>Casual Dining</td>\n",
       "      <td>Chinese, North Indian, Thai</td>\n",
       "      <td>800</td>\n",
       "      <td>Buffet</td>\n",
       "      <td>Banashankari</td>\n",
       "    </tr>\n",
       "    <tr>\n",
       "      <th>2</th>\n",
       "      <td>San Churro Cafe</td>\n",
       "      <td>Yes</td>\n",
       "      <td>No</td>\n",
       "      <td>3.8</td>\n",
       "      <td>918</td>\n",
       "      <td>Banashankari</td>\n",
       "      <td>Cafe, Casual Dining</td>\n",
       "      <td>Cafe, Mexican, Italian</td>\n",
       "      <td>800</td>\n",
       "      <td>Buffet</td>\n",
       "      <td>Banashankari</td>\n",
       "    </tr>\n",
       "    <tr>\n",
       "      <th>3</th>\n",
       "      <td>Addhuri Udupi Bhojana</td>\n",
       "      <td>No</td>\n",
       "      <td>No</td>\n",
       "      <td>3.7</td>\n",
       "      <td>88</td>\n",
       "      <td>Banashankari</td>\n",
       "      <td>Quick Bites</td>\n",
       "      <td>South Indian, North Indian</td>\n",
       "      <td>300</td>\n",
       "      <td>Buffet</td>\n",
       "      <td>Banashankari</td>\n",
       "    </tr>\n",
       "    <tr>\n",
       "      <th>4</th>\n",
       "      <td>Grand Village</td>\n",
       "      <td>No</td>\n",
       "      <td>No</td>\n",
       "      <td>3.8</td>\n",
       "      <td>166</td>\n",
       "      <td>Basavanagudi</td>\n",
       "      <td>Casual Dining</td>\n",
       "      <td>North Indian, Rajasthani</td>\n",
       "      <td>600</td>\n",
       "      <td>Buffet</td>\n",
       "      <td>Banashankari</td>\n",
       "    </tr>\n",
       "  </tbody>\n",
       "</table>\n",
       "</div>"
      ],
      "text/plain": [
       "                    name online_order book_table  rate  votes      location  \\\n",
       "0                  Jalsa          Yes        Yes   4.1    775  Banashankari   \n",
       "1         Spice Elephant          Yes         No   4.1    787  Banashankari   \n",
       "2        San Churro Cafe          Yes         No   3.8    918  Banashankari   \n",
       "3  Addhuri Udupi Bhojana           No         No   3.7     88  Banashankari   \n",
       "4          Grand Village           No         No   3.8    166  Basavanagudi   \n",
       "\n",
       "             rest_type                        cuisines  \\\n",
       "0        Casual Dining  North Indian, Mughlai, Chinese   \n",
       "1        Casual Dining     Chinese, North Indian, Thai   \n",
       "2  Cafe, Casual Dining          Cafe, Mexican, Italian   \n",
       "3          Quick Bites      South Indian, North Indian   \n",
       "4        Casual Dining        North Indian, Rajasthani   \n",
       "\n",
       "  approx_cost(for two people) listed_in(type) listed_in(city)  \n",
       "0                         800          Buffet    Banashankari  \n",
       "1                         800          Buffet    Banashankari  \n",
       "2                         800          Buffet    Banashankari  \n",
       "3                         300          Buffet    Banashankari  \n",
       "4                         600          Buffet    Banashankari  "
      ]
     },
     "execution_count": 12,
     "metadata": {},
     "output_type": "execute_result"
    }
   ],
   "source": [
    "df.dropna(inplace = True)\n",
    "df.head()"
   ]
  },
  {
   "cell_type": "code",
   "execution_count": 13,
   "id": "047bc4ca",
   "metadata": {
    "execution": {
     "iopub.execute_input": "2021-08-12T11:55:36.107280Z",
     "iopub.status.busy": "2021-08-12T11:55:36.106581Z",
     "iopub.status.idle": "2021-08-12T11:55:36.109533Z",
     "shell.execute_reply": "2021-08-12T11:55:36.110128Z",
     "shell.execute_reply.started": "2021-08-12T11:42:42.655708Z"
    },
    "papermill": {
     "duration": 0.061652,
     "end_time": "2021-08-12T11:55:36.110300",
     "exception": false,
     "start_time": "2021-08-12T11:55:36.048648",
     "status": "completed"
    },
    "tags": []
   },
   "outputs": [
    {
     "data": {
      "text/html": [
       "<div>\n",
       "<style scoped>\n",
       "    .dataframe tbody tr th:only-of-type {\n",
       "        vertical-align: middle;\n",
       "    }\n",
       "\n",
       "    .dataframe tbody tr th {\n",
       "        vertical-align: top;\n",
       "    }\n",
       "\n",
       "    .dataframe thead th {\n",
       "        text-align: right;\n",
       "    }\n",
       "</style>\n",
       "<table border=\"1\" class=\"dataframe\">\n",
       "  <thead>\n",
       "    <tr style=\"text-align: right;\">\n",
       "      <th></th>\n",
       "      <th>name</th>\n",
       "      <th>online_order</th>\n",
       "      <th>book_table</th>\n",
       "      <th>rate</th>\n",
       "      <th>votes</th>\n",
       "      <th>location</th>\n",
       "      <th>rest_type</th>\n",
       "      <th>cuisines</th>\n",
       "      <th>Cost2plates</th>\n",
       "      <th>Type</th>\n",
       "      <th>listed_in(city)</th>\n",
       "    </tr>\n",
       "  </thead>\n",
       "  <tbody>\n",
       "    <tr>\n",
       "      <th>0</th>\n",
       "      <td>Jalsa</td>\n",
       "      <td>Yes</td>\n",
       "      <td>Yes</td>\n",
       "      <td>4.1</td>\n",
       "      <td>775</td>\n",
       "      <td>Banashankari</td>\n",
       "      <td>Casual Dining</td>\n",
       "      <td>North Indian, Mughlai, Chinese</td>\n",
       "      <td>800</td>\n",
       "      <td>Buffet</td>\n",
       "      <td>Banashankari</td>\n",
       "    </tr>\n",
       "    <tr>\n",
       "      <th>1</th>\n",
       "      <td>Spice Elephant</td>\n",
       "      <td>Yes</td>\n",
       "      <td>No</td>\n",
       "      <td>4.1</td>\n",
       "      <td>787</td>\n",
       "      <td>Banashankari</td>\n",
       "      <td>Casual Dining</td>\n",
       "      <td>Chinese, North Indian, Thai</td>\n",
       "      <td>800</td>\n",
       "      <td>Buffet</td>\n",
       "      <td>Banashankari</td>\n",
       "    </tr>\n",
       "    <tr>\n",
       "      <th>2</th>\n",
       "      <td>San Churro Cafe</td>\n",
       "      <td>Yes</td>\n",
       "      <td>No</td>\n",
       "      <td>3.8</td>\n",
       "      <td>918</td>\n",
       "      <td>Banashankari</td>\n",
       "      <td>Cafe, Casual Dining</td>\n",
       "      <td>Cafe, Mexican, Italian</td>\n",
       "      <td>800</td>\n",
       "      <td>Buffet</td>\n",
       "      <td>Banashankari</td>\n",
       "    </tr>\n",
       "    <tr>\n",
       "      <th>3</th>\n",
       "      <td>Addhuri Udupi Bhojana</td>\n",
       "      <td>No</td>\n",
       "      <td>No</td>\n",
       "      <td>3.7</td>\n",
       "      <td>88</td>\n",
       "      <td>Banashankari</td>\n",
       "      <td>Quick Bites</td>\n",
       "      <td>South Indian, North Indian</td>\n",
       "      <td>300</td>\n",
       "      <td>Buffet</td>\n",
       "      <td>Banashankari</td>\n",
       "    </tr>\n",
       "    <tr>\n",
       "      <th>4</th>\n",
       "      <td>Grand Village</td>\n",
       "      <td>No</td>\n",
       "      <td>No</td>\n",
       "      <td>3.8</td>\n",
       "      <td>166</td>\n",
       "      <td>Basavanagudi</td>\n",
       "      <td>Casual Dining</td>\n",
       "      <td>North Indian, Rajasthani</td>\n",
       "      <td>600</td>\n",
       "      <td>Buffet</td>\n",
       "      <td>Banashankari</td>\n",
       "    </tr>\n",
       "  </tbody>\n",
       "</table>\n",
       "</div>"
      ],
      "text/plain": [
       "                    name online_order book_table  rate  votes      location  \\\n",
       "0                  Jalsa          Yes        Yes   4.1    775  Banashankari   \n",
       "1         Spice Elephant          Yes         No   4.1    787  Banashankari   \n",
       "2        San Churro Cafe          Yes         No   3.8    918  Banashankari   \n",
       "3  Addhuri Udupi Bhojana           No         No   3.7     88  Banashankari   \n",
       "4          Grand Village           No         No   3.8    166  Basavanagudi   \n",
       "\n",
       "             rest_type                        cuisines Cost2plates    Type  \\\n",
       "0        Casual Dining  North Indian, Mughlai, Chinese         800  Buffet   \n",
       "1        Casual Dining     Chinese, North Indian, Thai         800  Buffet   \n",
       "2  Cafe, Casual Dining          Cafe, Mexican, Italian         800  Buffet   \n",
       "3          Quick Bites      South Indian, North Indian         300  Buffet   \n",
       "4        Casual Dining        North Indian, Rajasthani         600  Buffet   \n",
       "\n",
       "  listed_in(city)  \n",
       "0    Banashankari  \n",
       "1    Banashankari  \n",
       "2    Banashankari  \n",
       "3    Banashankari  \n",
       "4    Banashankari  "
      ]
     },
     "execution_count": 13,
     "metadata": {},
     "output_type": "execute_result"
    }
   ],
   "source": [
    "df.rename(columns = {'approx_cost(for two people)':'Cost2plates', 'listed_in(type)':'Type'}, inplace = True)\n",
    "df.head()"
   ]
  },
  {
   "cell_type": "markdown",
   "id": "b4af39e4",
   "metadata": {
    "papermill": {
     "duration": 0.040015,
     "end_time": "2021-08-12T11:55:36.190592",
     "exception": false,
     "start_time": "2021-08-12T11:55:36.150577",
     "status": "completed"
    },
    "tags": []
   },
   "source": [
    "# listed city and loc, both are there"
   ]
  },
  {
   "cell_type": "code",
   "execution_count": 14,
   "id": "1ef6d84b",
   "metadata": {
    "execution": {
     "iopub.execute_input": "2021-08-12T11:55:36.274151Z",
     "iopub.status.busy": "2021-08-12T11:55:36.273519Z",
     "iopub.status.idle": "2021-08-12T11:55:36.282537Z",
     "shell.execute_reply": "2021-08-12T11:55:36.283095Z",
     "shell.execute_reply.started": "2021-08-12T11:43:26.466809Z"
    },
    "papermill": {
     "duration": 0.052421,
     "end_time": "2021-08-12T11:55:36.283282",
     "exception": false,
     "start_time": "2021-08-12T11:55:36.230861",
     "status": "completed"
    },
    "tags": []
   },
   "outputs": [],
   "source": [
    "df = df.drop(['listed_in(city)'], axis = 1)"
   ]
  },
  {
   "cell_type": "code",
   "execution_count": 15,
   "id": "7a366634",
   "metadata": {
    "execution": {
     "iopub.execute_input": "2021-08-12T11:55:36.368042Z",
     "iopub.status.busy": "2021-08-12T11:55:36.367368Z",
     "iopub.status.idle": "2021-08-12T11:55:36.377677Z",
     "shell.execute_reply": "2021-08-12T11:55:36.377171Z",
     "shell.execute_reply.started": "2021-08-12T11:43:35.788772Z"
    },
    "papermill": {
     "duration": 0.053955,
     "end_time": "2021-08-12T11:55:36.377821",
     "exception": false,
     "start_time": "2021-08-12T11:55:36.323866",
     "status": "completed"
    },
    "tags": []
   },
   "outputs": [
    {
     "data": {
      "text/plain": [
       "array(['800', '300', '600', '700', '550', '500', '450', '650', '400',\n",
       "       '900', '200', '750', '150', '850', '100', '1,200', '350', '250',\n",
       "       '950', '1,000', '1,500', '1,300', '199', '80', '1,100', '160',\n",
       "       '1,600', '230', '130', '50', '190', '1,700', '1,400', '180',\n",
       "       '1,350', '2,200', '2,000', '1,800', '1,900', '330', '2,500',\n",
       "       '2,100', '3,000', '2,800', '3,400', '40', '1,250', '3,500',\n",
       "       '4,000', '2,400', '2,600', '120', '1,450', '469', '70', '3,200',\n",
       "       '60', '560', '240', '360', '6,000', '1,050', '2,300', '4,100',\n",
       "       '5,000', '3,700', '1,650', '2,700', '4,500', '140'], dtype=object)"
      ]
     },
     "execution_count": 15,
     "metadata": {},
     "output_type": "execute_result"
    }
   ],
   "source": [
    "df['Cost2plates'].unique()"
   ]
  },
  {
   "cell_type": "code",
   "execution_count": 16,
   "id": "8263c99a",
   "metadata": {
    "execution": {
     "iopub.execute_input": "2021-08-12T11:55:36.465567Z",
     "iopub.status.busy": "2021-08-12T11:55:36.464852Z",
     "iopub.status.idle": "2021-08-12T11:55:36.517205Z",
     "shell.execute_reply": "2021-08-12T11:55:36.517701Z",
     "shell.execute_reply.started": "2021-08-12T11:43:57.745339Z"
    },
    "papermill": {
     "duration": 0.099564,
     "end_time": "2021-08-12T11:55:36.517912",
     "exception": false,
     "start_time": "2021-08-12T11:55:36.418348",
     "status": "completed"
    },
    "tags": []
   },
   "outputs": [
    {
     "data": {
      "text/plain": [
       "array([ 800.,  300.,  600.,  700.,  550.,  500.,  450.,  650.,  400.,\n",
       "        900.,  200.,  750.,  150.,  850.,  100., 1200.,  350.,  250.,\n",
       "        950., 1000., 1500., 1300.,  199.,   80., 1100.,  160., 1600.,\n",
       "        230.,  130.,   50.,  190., 1700., 1400.,  180., 1350., 2200.,\n",
       "       2000., 1800., 1900.,  330., 2500., 2100., 3000., 2800., 3400.,\n",
       "         40., 1250., 3500., 4000., 2400., 2600.,  120., 1450.,  469.,\n",
       "         70., 3200.,   60.,  560.,  240.,  360., 6000., 1050., 2300.,\n",
       "       4100., 5000., 3700., 1650., 2700., 4500.,  140.])"
      ]
     },
     "execution_count": 16,
     "metadata": {},
     "output_type": "execute_result"
    }
   ],
   "source": [
    "def handlecomma(value):\n",
    "    value = str(value)\n",
    "    if ',' in value:\n",
    "        value = value.replace(',', '')\n",
    "        return float(value)\n",
    "    else:\n",
    "        return float(value)\n",
    "    \n",
    "df['Cost2plates'] = df['Cost2plates'].apply(handlecomma)\n",
    "df['Cost2plates'].unique()"
   ]
  },
  {
   "cell_type": "code",
   "execution_count": 17,
   "id": "3befda15",
   "metadata": {
    "execution": {
     "iopub.execute_input": "2021-08-12T11:55:36.603447Z",
     "iopub.status.busy": "2021-08-12T11:55:36.602787Z",
     "iopub.status.idle": "2021-08-12T11:55:36.619945Z",
     "shell.execute_reply": "2021-08-12T11:55:36.619432Z",
     "shell.execute_reply.started": "2021-08-12T11:44:11.221309Z"
    },
    "papermill": {
     "duration": 0.060517,
     "end_time": "2021-08-12T11:55:36.620097",
     "exception": false,
     "start_time": "2021-08-12T11:55:36.559580",
     "status": "completed"
    },
    "tags": []
   },
   "outputs": [
    {
     "data": {
      "text/html": [
       "<div>\n",
       "<style scoped>\n",
       "    .dataframe tbody tr th:only-of-type {\n",
       "        vertical-align: middle;\n",
       "    }\n",
       "\n",
       "    .dataframe tbody tr th {\n",
       "        vertical-align: top;\n",
       "    }\n",
       "\n",
       "    .dataframe thead th {\n",
       "        text-align: right;\n",
       "    }\n",
       "</style>\n",
       "<table border=\"1\" class=\"dataframe\">\n",
       "  <thead>\n",
       "    <tr style=\"text-align: right;\">\n",
       "      <th></th>\n",
       "      <th>name</th>\n",
       "      <th>online_order</th>\n",
       "      <th>book_table</th>\n",
       "      <th>rate</th>\n",
       "      <th>votes</th>\n",
       "      <th>location</th>\n",
       "      <th>rest_type</th>\n",
       "      <th>cuisines</th>\n",
       "      <th>Cost2plates</th>\n",
       "      <th>Type</th>\n",
       "    </tr>\n",
       "  </thead>\n",
       "  <tbody>\n",
       "    <tr>\n",
       "      <th>0</th>\n",
       "      <td>Jalsa</td>\n",
       "      <td>Yes</td>\n",
       "      <td>Yes</td>\n",
       "      <td>4.1</td>\n",
       "      <td>775</td>\n",
       "      <td>Banashankari</td>\n",
       "      <td>Casual Dining</td>\n",
       "      <td>North Indian, Mughlai, Chinese</td>\n",
       "      <td>800.0</td>\n",
       "      <td>Buffet</td>\n",
       "    </tr>\n",
       "    <tr>\n",
       "      <th>1</th>\n",
       "      <td>Spice Elephant</td>\n",
       "      <td>Yes</td>\n",
       "      <td>No</td>\n",
       "      <td>4.1</td>\n",
       "      <td>787</td>\n",
       "      <td>Banashankari</td>\n",
       "      <td>Casual Dining</td>\n",
       "      <td>Chinese, North Indian, Thai</td>\n",
       "      <td>800.0</td>\n",
       "      <td>Buffet</td>\n",
       "    </tr>\n",
       "    <tr>\n",
       "      <th>2</th>\n",
       "      <td>San Churro Cafe</td>\n",
       "      <td>Yes</td>\n",
       "      <td>No</td>\n",
       "      <td>3.8</td>\n",
       "      <td>918</td>\n",
       "      <td>Banashankari</td>\n",
       "      <td>Cafe, Casual Dining</td>\n",
       "      <td>Cafe, Mexican, Italian</td>\n",
       "      <td>800.0</td>\n",
       "      <td>Buffet</td>\n",
       "    </tr>\n",
       "    <tr>\n",
       "      <th>3</th>\n",
       "      <td>Addhuri Udupi Bhojana</td>\n",
       "      <td>No</td>\n",
       "      <td>No</td>\n",
       "      <td>3.7</td>\n",
       "      <td>88</td>\n",
       "      <td>Banashankari</td>\n",
       "      <td>Quick Bites</td>\n",
       "      <td>South Indian, North Indian</td>\n",
       "      <td>300.0</td>\n",
       "      <td>Buffet</td>\n",
       "    </tr>\n",
       "    <tr>\n",
       "      <th>4</th>\n",
       "      <td>Grand Village</td>\n",
       "      <td>No</td>\n",
       "      <td>No</td>\n",
       "      <td>3.8</td>\n",
       "      <td>166</td>\n",
       "      <td>Basavanagudi</td>\n",
       "      <td>Casual Dining</td>\n",
       "      <td>North Indian, Rajasthani</td>\n",
       "      <td>600.0</td>\n",
       "      <td>Buffet</td>\n",
       "    </tr>\n",
       "  </tbody>\n",
       "</table>\n",
       "</div>"
      ],
      "text/plain": [
       "                    name online_order book_table  rate  votes      location  \\\n",
       "0                  Jalsa          Yes        Yes   4.1    775  Banashankari   \n",
       "1         Spice Elephant          Yes         No   4.1    787  Banashankari   \n",
       "2        San Churro Cafe          Yes         No   3.8    918  Banashankari   \n",
       "3  Addhuri Udupi Bhojana           No         No   3.7     88  Banashankari   \n",
       "4          Grand Village           No         No   3.8    166  Basavanagudi   \n",
       "\n",
       "             rest_type                        cuisines  Cost2plates    Type  \n",
       "0        Casual Dining  North Indian, Mughlai, Chinese        800.0  Buffet  \n",
       "1        Casual Dining     Chinese, North Indian, Thai        800.0  Buffet  \n",
       "2  Cafe, Casual Dining          Cafe, Mexican, Italian        800.0  Buffet  \n",
       "3          Quick Bites      South Indian, North Indian        300.0  Buffet  \n",
       "4        Casual Dining        North Indian, Rajasthani        600.0  Buffet  "
      ]
     },
     "execution_count": 17,
     "metadata": {},
     "output_type": "execute_result"
    }
   ],
   "source": [
    "df.head()"
   ]
  },
  {
   "cell_type": "markdown",
   "id": "0951d312",
   "metadata": {
    "papermill": {
     "duration": 0.04086,
     "end_time": "2021-08-12T11:55:36.702580",
     "exception": false,
     "start_time": "2021-08-12T11:55:36.661720",
     "status": "completed"
    },
    "tags": []
   },
   "source": [
    "# clean rest type column"
   ]
  },
  {
   "cell_type": "code",
   "execution_count": 18,
   "id": "11a9f511",
   "metadata": {
    "execution": {
     "iopub.execute_input": "2021-08-12T11:55:36.806625Z",
     "iopub.status.busy": "2021-08-12T11:55:36.805959Z",
     "iopub.status.idle": "2021-08-12T11:55:36.808959Z",
     "shell.execute_reply": "2021-08-12T11:55:36.809481Z",
     "shell.execute_reply.started": "2021-08-12T11:46:07.491588Z"
    },
    "papermill": {
     "duration": 0.065555,
     "end_time": "2021-08-12T11:55:36.809656",
     "exception": false,
     "start_time": "2021-08-12T11:55:36.744101",
     "status": "completed"
    },
    "tags": []
   },
   "outputs": [
    {
     "data": {
      "text/plain": [
       "Quick Bites                   19010\n",
       "Casual Dining                 10253\n",
       "Cafe                           3682\n",
       "Delivery                       2574\n",
       "Dessert Parlor                 2242\n",
       "                              ...  \n",
       "Pop Up                            2\n",
       "Bakery, Food Court                2\n",
       "Dessert Parlor, Food Court        2\n",
       "Quick Bites, Kiosk                1\n",
       "Sweet Shop, Dessert Parlor        1\n",
       "Name: rest_type, Length: 93, dtype: int64"
      ]
     },
     "execution_count": 18,
     "metadata": {},
     "output_type": "execute_result"
    }
   ],
   "source": [
    "rest_types = df['rest_type'].value_counts(ascending  = False)\n",
    "rest_types"
   ]
  },
  {
   "cell_type": "code",
   "execution_count": 19,
   "id": "db81c757",
   "metadata": {
    "execution": {
     "iopub.execute_input": "2021-08-12T11:55:36.897044Z",
     "iopub.status.busy": "2021-08-12T11:55:36.896345Z",
     "iopub.status.idle": "2021-08-12T11:55:36.903567Z",
     "shell.execute_reply": "2021-08-12T11:55:36.904061Z",
     "shell.execute_reply.started": "2021-08-12T11:46:19.006533Z"
    },
    "papermill": {
     "duration": 0.052803,
     "end_time": "2021-08-12T11:55:36.904249",
     "exception": false,
     "start_time": "2021-08-12T11:55:36.851446",
     "status": "completed"
    },
    "tags": []
   },
   "outputs": [
    {
     "data": {
      "text/plain": [
       "Beverage Shop                 863\n",
       "Bar                           686\n",
       "Food Court                    616\n",
       "Sweet Shop                    468\n",
       "Bar, Casual Dining            411\n",
       "                             ... \n",
       "Pop Up                          2\n",
       "Bakery, Food Court              2\n",
       "Dessert Parlor, Food Court      2\n",
       "Quick Bites, Kiosk              1\n",
       "Sweet Shop, Dessert Parlor      1\n",
       "Name: rest_type, Length: 85, dtype: int64"
      ]
     },
     "execution_count": 19,
     "metadata": {},
     "output_type": "execute_result"
    }
   ],
   "source": [
    "rest_types_lessthan1000 = rest_types[rest_types<1000]\n",
    "rest_types_lessthan1000"
   ]
  },
  {
   "cell_type": "markdown",
   "id": "33dcae1b",
   "metadata": {
    "papermill": {
     "duration": 0.041938,
     "end_time": "2021-08-12T11:55:36.989315",
     "exception": false,
     "start_time": "2021-08-12T11:55:36.947377",
     "status": "completed"
    },
    "tags": []
   },
   "source": [
    "# less than 1k in frequency "
   ]
  },
  {
   "cell_type": "code",
   "execution_count": 20,
   "id": "294c597f",
   "metadata": {
    "execution": {
     "iopub.execute_input": "2021-08-12T11:55:37.077315Z",
     "iopub.status.busy": "2021-08-12T11:55:37.076667Z",
     "iopub.status.idle": "2021-08-12T11:55:37.178517Z",
     "shell.execute_reply": "2021-08-12T11:55:37.177958Z",
     "shell.execute_reply.started": "2021-08-12T11:46:52.352549Z"
    },
    "papermill": {
     "duration": 0.146993,
     "end_time": "2021-08-12T11:55:37.178657",
     "exception": false,
     "start_time": "2021-08-12T11:55:37.031664",
     "status": "completed"
    },
    "tags": []
   },
   "outputs": [
    {
     "data": {
      "text/plain": [
       "Quick Bites           19010\n",
       "Casual Dining         10253\n",
       "others                 9003\n",
       "Cafe                   3682\n",
       "Delivery               2574\n",
       "Dessert Parlor         2242\n",
       "Takeaway, Delivery     2008\n",
       "Bakery                 1140\n",
       "Casual Dining, Bar     1130\n",
       "Name: rest_type, dtype: int64"
      ]
     },
     "execution_count": 20,
     "metadata": {},
     "output_type": "execute_result"
    }
   ],
   "source": [
    "def handle_rest_type(value):\n",
    "    if(value in rest_types_lessthan1000):\n",
    "        return 'others'\n",
    "    else:\n",
    "        return value\n",
    "        \n",
    "df['rest_type'] = df['rest_type'].apply(handle_rest_type)\n",
    "df['rest_type'].value_counts()"
   ]
  },
  {
   "cell_type": "code",
   "execution_count": 21,
   "id": "1763a5c7",
   "metadata": {
    "execution": {
     "iopub.execute_input": "2021-08-12T11:55:37.310914Z",
     "iopub.status.busy": "2021-08-12T11:55:37.277833Z",
     "iopub.status.idle": "2021-08-12T11:55:37.382241Z",
     "shell.execute_reply": "2021-08-12T11:55:37.381548Z",
     "shell.execute_reply.started": "2021-08-12T11:47:33.133975Z"
    },
    "papermill": {
     "duration": 0.160434,
     "end_time": "2021-08-12T11:55:37.382389",
     "exception": false,
     "start_time": "2021-08-12T11:55:37.221955",
     "status": "completed"
    },
    "tags": []
   },
   "outputs": [
    {
     "data": {
      "text/plain": [
       "BTM                      5056\n",
       "others                   4954\n",
       "HSR                      2494\n",
       "Koramangala 5th Block    2479\n",
       "JP Nagar                 2218\n",
       "Whitefield               2105\n",
       "Indiranagar              2026\n",
       "Jayanagar                1916\n",
       "Marathahalli             1805\n",
       "Bannerghatta Road        1609\n",
       "Bellandur                1268\n",
       "Electronic City          1246\n",
       "Koramangala 1st Block    1236\n",
       "Brigade Road             1210\n",
       "Koramangala 7th Block    1174\n",
       "Koramangala 6th Block    1127\n",
       "Sarjapur Road            1047\n",
       "Koramangala 4th Block    1017\n",
       "Ulsoor                   1011\n",
       "Banashankari              902\n",
       "MG Road                   893\n",
       "Kalyan Nagar              841\n",
       "Richmond Road             803\n",
       "Malleshwaram              721\n",
       "Frazer Town               714\n",
       "Basavanagudi              684\n",
       "Residency Road            671\n",
       "Brookefield               656\n",
       "New BEL Road              644\n",
       "Banaswadi                 640\n",
       "Kammanahalli              639\n",
       "Rajajinagar               591\n",
       "Church Street             566\n",
       "Lavelle Road              518\n",
       "Shanti Nagar              508\n",
       "Shivajinagar              498\n",
       "Cunningham Road           490\n",
       "Domlur                    482\n",
       "Old Airport Road          437\n",
       "Ejipura                   433\n",
       "Commercial Street         370\n",
       "St. Marks Road            343\n",
       "Name: location, dtype: int64"
      ]
     },
     "execution_count": 21,
     "metadata": {},
     "output_type": "execute_result"
    }
   ],
   "source": [
    "location = df['location'].value_counts(ascending  = False)\n",
    "\n",
    "location_lessthan300 = location[location<300]\n",
    "\n",
    "\n",
    "\n",
    "def handle_location(value):\n",
    "    if(value in location_lessthan300):\n",
    "        return 'others'\n",
    "    else:\n",
    "        return value\n",
    "        \n",
    "df['location'] = df['location'].apply(handle_location)\n",
    "df['location'].value_counts()"
   ]
  },
  {
   "cell_type": "code",
   "execution_count": 22,
   "id": "fdd6704e",
   "metadata": {
    "execution": {
     "iopub.execute_input": "2021-08-12T11:55:37.489555Z",
     "iopub.status.busy": "2021-08-12T11:55:37.488579Z",
     "iopub.status.idle": "2021-08-12T11:55:37.590500Z",
     "shell.execute_reply": "2021-08-12T11:55:37.589931Z",
     "shell.execute_reply.started": "2021-08-12T11:47:45.642424Z"
    },
    "papermill": {
     "duration": 0.164472,
     "end_time": "2021-08-12T11:55:37.590644",
     "exception": false,
     "start_time": "2021-08-12T11:55:37.426172",
     "status": "completed"
    },
    "tags": []
   },
   "outputs": [
    {
     "data": {
      "text/plain": [
       "others                                 26159\n",
       "North Indian                            2852\n",
       "North Indian, Chinese                   2351\n",
       "South Indian                            1820\n",
       "Biryani                                  903\n",
       "                                       ...  \n",
       "South Indian, Chinese, North Indian      105\n",
       "North Indian, Mughlai, Chinese           104\n",
       "South Indian, Fast Food                  104\n",
       "Italian, Pizza                           102\n",
       "North Indian, Chinese, Seafood           102\n",
       "Name: cuisines, Length: 70, dtype: int64"
      ]
     },
     "execution_count": 22,
     "metadata": {},
     "output_type": "execute_result"
    }
   ],
   "source": [
    "cuisines = df['cuisines'].value_counts(ascending  = False)\n",
    "\n",
    "\n",
    "cuisines_lessthan100 = cuisines[cuisines<100]\n",
    "\n",
    "\n",
    "\n",
    "def handle_cuisines(value):\n",
    "    if(value in cuisines_lessthan100):\n",
    "        return 'others'\n",
    "    else:\n",
    "        return value\n",
    "        \n",
    "df['cuisines'] = df['cuisines'].apply(handle_cuisines)\n",
    "df['cuisines'].value_counts()"
   ]
  },
  {
   "cell_type": "code",
   "execution_count": 23,
   "id": "1feb2d56",
   "metadata": {
    "execution": {
     "iopub.execute_input": "2021-08-12T11:55:37.694341Z",
     "iopub.status.busy": "2021-08-12T11:55:37.693420Z",
     "iopub.status.idle": "2021-08-12T11:55:37.697599Z",
     "shell.execute_reply": "2021-08-12T11:55:37.696982Z",
     "shell.execute_reply.started": "2021-08-12T11:47:52.052520Z"
    },
    "papermill": {
     "duration": 0.063828,
     "end_time": "2021-08-12T11:55:37.697737",
     "exception": false,
     "start_time": "2021-08-12T11:55:37.633909",
     "status": "completed"
    },
    "tags": []
   },
   "outputs": [
    {
     "data": {
      "text/html": [
       "<div>\n",
       "<style scoped>\n",
       "    .dataframe tbody tr th:only-of-type {\n",
       "        vertical-align: middle;\n",
       "    }\n",
       "\n",
       "    .dataframe tbody tr th {\n",
       "        vertical-align: top;\n",
       "    }\n",
       "\n",
       "    .dataframe thead th {\n",
       "        text-align: right;\n",
       "    }\n",
       "</style>\n",
       "<table border=\"1\" class=\"dataframe\">\n",
       "  <thead>\n",
       "    <tr style=\"text-align: right;\">\n",
       "      <th></th>\n",
       "      <th>name</th>\n",
       "      <th>online_order</th>\n",
       "      <th>book_table</th>\n",
       "      <th>rate</th>\n",
       "      <th>votes</th>\n",
       "      <th>location</th>\n",
       "      <th>rest_type</th>\n",
       "      <th>cuisines</th>\n",
       "      <th>Cost2plates</th>\n",
       "      <th>Type</th>\n",
       "    </tr>\n",
       "  </thead>\n",
       "  <tbody>\n",
       "    <tr>\n",
       "      <th>0</th>\n",
       "      <td>Jalsa</td>\n",
       "      <td>Yes</td>\n",
       "      <td>Yes</td>\n",
       "      <td>4.1</td>\n",
       "      <td>775</td>\n",
       "      <td>Banashankari</td>\n",
       "      <td>Casual Dining</td>\n",
       "      <td>North Indian, Mughlai, Chinese</td>\n",
       "      <td>800.0</td>\n",
       "      <td>Buffet</td>\n",
       "    </tr>\n",
       "    <tr>\n",
       "      <th>1</th>\n",
       "      <td>Spice Elephant</td>\n",
       "      <td>Yes</td>\n",
       "      <td>No</td>\n",
       "      <td>4.1</td>\n",
       "      <td>787</td>\n",
       "      <td>Banashankari</td>\n",
       "      <td>Casual Dining</td>\n",
       "      <td>others</td>\n",
       "      <td>800.0</td>\n",
       "      <td>Buffet</td>\n",
       "    </tr>\n",
       "    <tr>\n",
       "      <th>2</th>\n",
       "      <td>San Churro Cafe</td>\n",
       "      <td>Yes</td>\n",
       "      <td>No</td>\n",
       "      <td>3.8</td>\n",
       "      <td>918</td>\n",
       "      <td>Banashankari</td>\n",
       "      <td>others</td>\n",
       "      <td>others</td>\n",
       "      <td>800.0</td>\n",
       "      <td>Buffet</td>\n",
       "    </tr>\n",
       "    <tr>\n",
       "      <th>3</th>\n",
       "      <td>Addhuri Udupi Bhojana</td>\n",
       "      <td>No</td>\n",
       "      <td>No</td>\n",
       "      <td>3.7</td>\n",
       "      <td>88</td>\n",
       "      <td>Banashankari</td>\n",
       "      <td>Quick Bites</td>\n",
       "      <td>South Indian, North Indian</td>\n",
       "      <td>300.0</td>\n",
       "      <td>Buffet</td>\n",
       "    </tr>\n",
       "    <tr>\n",
       "      <th>4</th>\n",
       "      <td>Grand Village</td>\n",
       "      <td>No</td>\n",
       "      <td>No</td>\n",
       "      <td>3.8</td>\n",
       "      <td>166</td>\n",
       "      <td>Basavanagudi</td>\n",
       "      <td>Casual Dining</td>\n",
       "      <td>others</td>\n",
       "      <td>600.0</td>\n",
       "      <td>Buffet</td>\n",
       "    </tr>\n",
       "  </tbody>\n",
       "</table>\n",
       "</div>"
      ],
      "text/plain": [
       "                    name online_order book_table  rate  votes      location  \\\n",
       "0                  Jalsa          Yes        Yes   4.1    775  Banashankari   \n",
       "1         Spice Elephant          Yes         No   4.1    787  Banashankari   \n",
       "2        San Churro Cafe          Yes         No   3.8    918  Banashankari   \n",
       "3  Addhuri Udupi Bhojana           No         No   3.7     88  Banashankari   \n",
       "4          Grand Village           No         No   3.8    166  Basavanagudi   \n",
       "\n",
       "       rest_type                        cuisines  Cost2plates    Type  \n",
       "0  Casual Dining  North Indian, Mughlai, Chinese        800.0  Buffet  \n",
       "1  Casual Dining                          others        800.0  Buffet  \n",
       "2         others                          others        800.0  Buffet  \n",
       "3    Quick Bites      South Indian, North Indian        300.0  Buffet  \n",
       "4  Casual Dining                          others        600.0  Buffet  "
      ]
     },
     "execution_count": 23,
     "metadata": {},
     "output_type": "execute_result"
    }
   ],
   "source": [
    "df.head()"
   ]
  },
  {
   "cell_type": "markdown",
   "id": "81fd530e",
   "metadata": {
    "papermill": {
     "duration": 0.043627,
     "end_time": "2021-08-12T11:55:37.785174",
     "exception": false,
     "start_time": "2021-08-12T11:55:37.741547",
     "status": "completed"
    },
    "tags": []
   },
   "source": [
    "# Visualization\n",
    "\n",
    "**plot of various loc**"
   ]
  },
  {
   "cell_type": "code",
   "execution_count": 24,
   "id": "f6fd4cd1",
   "metadata": {
    "execution": {
     "iopub.execute_input": "2021-08-12T11:55:37.879141Z",
     "iopub.status.busy": "2021-08-12T11:55:37.878432Z",
     "iopub.status.idle": "2021-08-12T11:55:38.532948Z",
     "shell.execute_reply": "2021-08-12T11:55:38.532381Z",
     "shell.execute_reply.started": "2021-08-12T11:48:29.370588Z"
    },
    "papermill": {
     "duration": 0.704079,
     "end_time": "2021-08-12T11:55:38.533103",
     "exception": false,
     "start_time": "2021-08-12T11:55:37.829024",
     "status": "completed"
    },
    "tags": []
   },
   "outputs": [
    {
     "name": "stderr",
     "output_type": "stream",
     "text": [
      "/opt/conda/lib/python3.7/site-packages/seaborn/_decorators.py:43: FutureWarning: Pass the following variable as a keyword arg: x. From version 0.12, the only valid positional argument will be `data`, and passing other arguments without an explicit keyword will result in an error or misinterpretation.\n",
      "  FutureWarning\n"
     ]
    },
    {
     "data": {
      "text/plain": [
       "(array([ 0,  1,  2,  3,  4,  5,  6,  7,  8,  9, 10, 11, 12, 13, 14, 15, 16,\n",
       "        17, 18, 19, 20, 21, 22, 23, 24, 25, 26, 27, 28, 29, 30, 31, 32, 33,\n",
       "        34, 35, 36, 37, 38, 39, 40, 41]),\n",
       " [Text(0, 0, 'Banashankari'),\n",
       "  Text(1, 0, 'Basavanagudi'),\n",
       "  Text(2, 0, 'others'),\n",
       "  Text(3, 0, 'Jayanagar'),\n",
       "  Text(4, 0, 'JP Nagar'),\n",
       "  Text(5, 0, 'Bannerghatta Road'),\n",
       "  Text(6, 0, 'BTM'),\n",
       "  Text(7, 0, 'Electronic City'),\n",
       "  Text(8, 0, 'HSR'),\n",
       "  Text(9, 0, 'Marathahalli'),\n",
       "  Text(10, 0, 'Shanti Nagar'),\n",
       "  Text(11, 0, 'Koramangala 5th Block'),\n",
       "  Text(12, 0, 'Richmond Road'),\n",
       "  Text(13, 0, 'Koramangala 7th Block'),\n",
       "  Text(14, 0, 'Koramangala 4th Block'),\n",
       "  Text(15, 0, 'Bellandur'),\n",
       "  Text(16, 0, 'Sarjapur Road'),\n",
       "  Text(17, 0, 'Whitefield'),\n",
       "  Text(18, 0, 'Old Airport Road'),\n",
       "  Text(19, 0, 'Indiranagar'),\n",
       "  Text(20, 0, 'Koramangala 1st Block'),\n",
       "  Text(21, 0, 'Frazer Town'),\n",
       "  Text(22, 0, 'MG Road'),\n",
       "  Text(23, 0, 'Brigade Road'),\n",
       "  Text(24, 0, 'Lavelle Road'),\n",
       "  Text(25, 0, 'Church Street'),\n",
       "  Text(26, 0, 'Ulsoor'),\n",
       "  Text(27, 0, 'Residency Road'),\n",
       "  Text(28, 0, 'Shivajinagar'),\n",
       "  Text(29, 0, 'St. Marks Road'),\n",
       "  Text(30, 0, 'Cunningham Road'),\n",
       "  Text(31, 0, 'Commercial Street'),\n",
       "  Text(32, 0, 'Domlur'),\n",
       "  Text(33, 0, 'Ejipura'),\n",
       "  Text(34, 0, 'Malleshwaram'),\n",
       "  Text(35, 0, 'Kammanahalli'),\n",
       "  Text(36, 0, 'Koramangala 6th Block'),\n",
       "  Text(37, 0, 'Brookefield'),\n",
       "  Text(38, 0, 'Rajajinagar'),\n",
       "  Text(39, 0, 'Banaswadi'),\n",
       "  Text(40, 0, 'Kalyan Nagar'),\n",
       "  Text(41, 0, 'New BEL Road')])"
      ]
     },
     "execution_count": 24,
     "metadata": {},
     "output_type": "execute_result"
    },
    {
     "data": {
      "image/png": "[encoded data removed]",
      "text/plain": [
       "<Figure size 1152x720 with 1 Axes>"
      ]
     },
     "metadata": {
      "needs_background": "light"
     },
     "output_type": "display_data"
    }
   ],
   "source": [
    "plt.figure(figsize = (16,10))\n",
    "ax = sns.countplot(df['location'])\n",
    "plt.xticks(rotation=90)"
   ]
  },
  {
   "cell_type": "markdown",
   "id": "869e563e",
   "metadata": {
    "papermill": {
     "duration": 0.045957,
     "end_time": "2021-08-12T11:55:38.625427",
     "exception": false,
     "start_time": "2021-08-12T11:55:38.579470",
     "status": "completed"
    },
    "tags": []
   },
   "source": [
    "# visualizing online order and book table"
   ]
  },
  {
   "cell_type": "code",
   "execution_count": 25,
   "id": "b68fa0e0",
   "metadata": {
    "execution": {
     "iopub.execute_input": "2021-08-12T11:55:38.755576Z",
     "iopub.status.busy": "2021-08-12T11:55:38.754646Z",
     "iopub.status.idle": "2021-08-12T11:55:38.911869Z",
     "shell.execute_reply": "2021-08-12T11:55:38.910899Z",
     "shell.execute_reply.started": "2021-08-12T11:48:55.352803Z"
    },
    "papermill": {
     "duration": 0.240445,
     "end_time": "2021-08-12T11:55:38.912051",
     "exception": false,
     "start_time": "2021-08-12T11:55:38.671606",
     "status": "completed"
    },
    "tags": []
   },
   "outputs": [
    {
     "name": "stderr",
     "output_type": "stream",
     "text": [
      "/opt/conda/lib/python3.7/site-packages/seaborn/_decorators.py:43: FutureWarning: Pass the following variable as a keyword arg: x. From version 0.12, the only valid positional argument will be `data`, and passing other arguments without an explicit keyword will result in an error or misinterpretation.\n",
      "  FutureWarning\n"
     ]
    },
    {
     "data": {
      "text/plain": [
       "<AxesSubplot:xlabel='online_order', ylabel='count'>"
      ]
     },
     "execution_count": 25,
     "metadata": {},
     "output_type": "execute_result"
    },
    {
     "data": {
      "image/png": "[encoded data removed]",
      "text/plain": [
       "<Figure size 432x432 with 1 Axes>"
      ]
     },
     "metadata": {
      "needs_background": "light"
     },
     "output_type": "display_data"
    }
   ],
   "source": [
    "plt.figure(figsize = (6,6))\n",
    "sns.countplot(df['online_order'], palette = 'inferno')"
   ]
  },
  {
   "cell_type": "code",
   "execution_count": 26,
   "id": "ded2420a",
   "metadata": {
    "execution": {
     "iopub.execute_input": "2021-08-12T11:55:39.065908Z",
     "iopub.status.busy": "2021-08-12T11:55:39.045785Z",
     "iopub.status.idle": "2021-08-12T11:55:39.192059Z",
     "shell.execute_reply": "2021-08-12T11:55:39.191479Z",
     "shell.execute_reply.started": "2021-08-12T11:49:12.111405Z"
    },
    "papermill": {
     "duration": 0.2322,
     "end_time": "2021-08-12T11:55:39.192211",
     "exception": false,
     "start_time": "2021-08-12T11:55:38.960011",
     "status": "completed"
    },
    "tags": []
   },
   "outputs": [
    {
     "name": "stderr",
     "output_type": "stream",
     "text": [
      "/opt/conda/lib/python3.7/site-packages/seaborn/_decorators.py:43: FutureWarning: Pass the following variable as a keyword arg: x. From version 0.12, the only valid positional argument will be `data`, and passing other arguments without an explicit keyword will result in an error or misinterpretation.\n",
      "  FutureWarning\n"
     ]
    },
    {
     "data": {
      "text/plain": [
       "<AxesSubplot:xlabel='book_table', ylabel='count'>"
      ]
     },
     "execution_count": 26,
     "metadata": {},
     "output_type": "execute_result"
    },
    {
     "data": {
      "image/png": "[encoded data removed]",
      "text/plain": [
       "<Figure size 432x432 with 1 Axes>"
      ]
     },
     "metadata": {
      "needs_background": "light"
     },
     "output_type": "display_data"
    }
   ],
   "source": [
    "plt.figure(figsize = (6,6))\n",
    "sns.countplot(df['book_table'], palette = 'rainbow')"
   ]
  },
  {
   "cell_type": "markdown",
   "id": "85801704",
   "metadata": {
    "papermill": {
     "duration": 0.048679,
     "end_time": "2021-08-12T11:55:39.289732",
     "exception": false,
     "start_time": "2021-08-12T11:55:39.241053",
     "status": "completed"
    },
    "tags": []
   },
   "source": [
    "# online order vs rate\n",
    "# book table vs rate"
   ]
  },
  {
   "cell_type": "code",
   "execution_count": 27,
   "id": "74b9dcf0",
   "metadata": {
    "execution": {
     "iopub.execute_input": "2021-08-12T11:55:39.411291Z",
     "iopub.status.busy": "2021-08-12T11:55:39.408748Z",
     "iopub.status.idle": "2021-08-12T11:55:39.607375Z",
     "shell.execute_reply": "2021-08-12T11:55:39.606694Z",
     "shell.execute_reply.started": "2021-08-12T11:49:54.188451Z"
    },
    "papermill": {
     "duration": 0.26831,
     "end_time": "2021-08-12T11:55:39.607529",
     "exception": false,
     "start_time": "2021-08-12T11:55:39.339219",
     "status": "completed"
    },
    "tags": []
   },
   "outputs": [
    {
     "data": {
      "text/plain": [
       "<AxesSubplot:xlabel='online_order', ylabel='rate'>"
      ]
     },
     "execution_count": 27,
     "metadata": {},
     "output_type": "execute_result"
    },
    {
     "data": {
      "image/png": "[encoded data removed]",
      "text/plain": [
       "<Figure size 432x432 with 1 Axes>"
      ]
     },
     "metadata": {
      "needs_background": "light"
     },
     "output_type": "display_data"
    }
   ],
   "source": [
    "plt.figure(figsize = (6,6))\n",
    "sns.boxplot(x = 'online_order', y = 'rate', data = df)"
   ]
  },
  {
   "cell_type": "code",
   "execution_count": 28,
   "id": "7058441f",
   "metadata": {
    "execution": {
     "iopub.execute_input": "2021-08-12T11:55:39.732735Z",
     "iopub.status.busy": "2021-08-12T11:55:39.729758Z",
     "iopub.status.idle": "2021-08-12T11:55:39.917570Z",
     "shell.execute_reply": "2021-08-12T11:55:39.916892Z",
     "shell.execute_reply.started": "2021-08-12T11:50:41.888665Z"
    },
    "papermill": {
     "duration": 0.260233,
     "end_time": "2021-08-12T11:55:39.917712",
     "exception": false,
     "start_time": "2021-08-12T11:55:39.657479",
     "status": "completed"
    },
    "tags": []
   },
   "outputs": [
    {
     "data": {
      "text/plain": [
       "<AxesSubplot:xlabel='book_table', ylabel='rate'>"
      ]
     },
     "execution_count": 28,
     "metadata": {},
     "output_type": "execute_result"
    },
    {
     "data": {
      "image/png": "[encoded data removed]",
      "text/plain": [
       "<Figure size 432x432 with 1 Axes>"
      ]
     },
     "metadata": {
      "needs_background": "light"
     },
     "output_type": "display_data"
    }
   ],
   "source": [
    "plt.figure(figsize = (6,6))\n",
    "sns.boxplot(x = 'book_table', y = 'rate', data = df)"
   ]
  },
  {
   "cell_type": "markdown",
   "id": "ee62fd77",
   "metadata": {
    "papermill": {
     "duration": 0.050457,
     "end_time": "2021-08-12T11:55:40.019641",
     "exception": false,
     "start_time": "2021-08-12T11:55:39.969184",
     "status": "completed"
    },
    "tags": []
   },
   "source": [
    "# Online Order Facility, Location Wise\n",
    "\n",
    "# Book Table Facility, Location Wise"
   ]
  },
  {
   "cell_type": "code",
   "execution_count": 29,
   "id": "bf149e86",
   "metadata": {
    "execution": {
     "iopub.execute_input": "2021-08-12T11:55:40.131054Z",
     "iopub.status.busy": "2021-08-12T11:55:40.128444Z",
     "iopub.status.idle": "2021-08-12T11:55:40.180991Z",
     "shell.execute_reply": "2021-08-12T11:55:40.180344Z",
     "shell.execute_reply.started": "2021-08-12T11:51:21.126709Z"
    },
    "papermill": {
     "duration": 0.110536,
     "end_time": "2021-08-12T11:55:40.181133",
     "exception": false,
     "start_time": "2021-08-12T11:55:40.070597",
     "status": "completed"
    },
    "tags": []
   },
   "outputs": [
    {
     "data": {
      "text/html": [
       "<div>\n",
       "<style scoped>\n",
       "    .dataframe tbody tr th:only-of-type {\n",
       "        vertical-align: middle;\n",
       "    }\n",
       "\n",
       "    .dataframe tbody tr th {\n",
       "        vertical-align: top;\n",
       "    }\n",
       "\n",
       "    .dataframe thead tr th {\n",
       "        text-align: left;\n",
       "    }\n",
       "\n",
       "    .dataframe thead tr:last-of-type th {\n",
       "        text-align: right;\n",
       "    }\n",
       "</style>\n",
       "<table border=\"1\" class=\"dataframe\">\n",
       "  <thead>\n",
       "    <tr>\n",
       "      <th></th>\n",
       "      <th colspan=\"2\" halign=\"left\">name</th>\n",
       "    </tr>\n",
       "    <tr>\n",
       "      <th>online_order</th>\n",
       "      <th>No</th>\n",
       "      <th>Yes</th>\n",
       "    </tr>\n",
       "    <tr>\n",
       "      <th>location</th>\n",
       "      <th></th>\n",
       "      <th></th>\n",
       "    </tr>\n",
       "  </thead>\n",
       "  <tbody>\n",
       "    <tr>\n",
       "      <th>BTM</th>\n",
       "      <td>1763</td>\n",
       "      <td>3293</td>\n",
       "    </tr>\n",
       "    <tr>\n",
       "      <th>Banashankari</th>\n",
       "      <td>397</td>\n",
       "      <td>505</td>\n",
       "    </tr>\n",
       "    <tr>\n",
       "      <th>Banaswadi</th>\n",
       "      <td>302</td>\n",
       "      <td>338</td>\n",
       "    </tr>\n",
       "    <tr>\n",
       "      <th>Bannerghatta Road</th>\n",
       "      <td>685</td>\n",
       "      <td>924</td>\n",
       "    </tr>\n",
       "    <tr>\n",
       "      <th>Basavanagudi</th>\n",
       "      <td>243</td>\n",
       "      <td>441</td>\n",
       "    </tr>\n",
       "    <tr>\n",
       "      <th>Bellandur</th>\n",
       "      <td>517</td>\n",
       "      <td>751</td>\n",
       "    </tr>\n",
       "    <tr>\n",
       "      <th>Brigade Road</th>\n",
       "      <td>552</td>\n",
       "      <td>658</td>\n",
       "    </tr>\n",
       "    <tr>\n",
       "      <th>Brookefield</th>\n",
       "      <td>239</td>\n",
       "      <td>417</td>\n",
       "    </tr>\n",
       "    <tr>\n",
       "      <th>Church Street</th>\n",
       "      <td>226</td>\n",
       "      <td>340</td>\n",
       "    </tr>\n",
       "    <tr>\n",
       "      <th>Commercial Street</th>\n",
       "      <td>228</td>\n",
       "      <td>142</td>\n",
       "    </tr>\n",
       "    <tr>\n",
       "      <th>Cunningham Road</th>\n",
       "      <td>168</td>\n",
       "      <td>322</td>\n",
       "    </tr>\n",
       "    <tr>\n",
       "      <th>Domlur</th>\n",
       "      <td>247</td>\n",
       "      <td>235</td>\n",
       "    </tr>\n",
       "    <tr>\n",
       "      <th>Ejipura</th>\n",
       "      <td>214</td>\n",
       "      <td>219</td>\n",
       "    </tr>\n",
       "    <tr>\n",
       "      <th>Electronic City</th>\n",
       "      <td>676</td>\n",
       "      <td>570</td>\n",
       "    </tr>\n",
       "    <tr>\n",
       "      <th>Frazer Town</th>\n",
       "      <td>287</td>\n",
       "      <td>427</td>\n",
       "    </tr>\n",
       "    <tr>\n",
       "      <th>HSR</th>\n",
       "      <td>584</td>\n",
       "      <td>1910</td>\n",
       "    </tr>\n",
       "    <tr>\n",
       "      <th>Indiranagar</th>\n",
       "      <td>697</td>\n",
       "      <td>1329</td>\n",
       "    </tr>\n",
       "    <tr>\n",
       "      <th>JP Nagar</th>\n",
       "      <td>911</td>\n",
       "      <td>1307</td>\n",
       "    </tr>\n",
       "    <tr>\n",
       "      <th>Jayanagar</th>\n",
       "      <td>552</td>\n",
       "      <td>1364</td>\n",
       "    </tr>\n",
       "    <tr>\n",
       "      <th>Kalyan Nagar</th>\n",
       "      <td>350</td>\n",
       "      <td>491</td>\n",
       "    </tr>\n",
       "    <tr>\n",
       "      <th>Kammanahalli</th>\n",
       "      <td>264</td>\n",
       "      <td>375</td>\n",
       "    </tr>\n",
       "    <tr>\n",
       "      <th>Koramangala 1st Block</th>\n",
       "      <td>384</td>\n",
       "      <td>852</td>\n",
       "    </tr>\n",
       "    <tr>\n",
       "      <th>Koramangala 4th Block</th>\n",
       "      <td>459</td>\n",
       "      <td>558</td>\n",
       "    </tr>\n",
       "    <tr>\n",
       "      <th>Koramangala 5th Block</th>\n",
       "      <td>866</td>\n",
       "      <td>1613</td>\n",
       "    </tr>\n",
       "    <tr>\n",
       "      <th>Koramangala 6th Block</th>\n",
       "      <td>445</td>\n",
       "      <td>682</td>\n",
       "    </tr>\n",
       "    <tr>\n",
       "      <th>Koramangala 7th Block</th>\n",
       "      <td>389</td>\n",
       "      <td>785</td>\n",
       "    </tr>\n",
       "    <tr>\n",
       "      <th>Lavelle Road</th>\n",
       "      <td>315</td>\n",
       "      <td>203</td>\n",
       "    </tr>\n",
       "    <tr>\n",
       "      <th>MG Road</th>\n",
       "      <td>520</td>\n",
       "      <td>373</td>\n",
       "    </tr>\n",
       "    <tr>\n",
       "      <th>Malleshwaram</th>\n",
       "      <td>309</td>\n",
       "      <td>412</td>\n",
       "    </tr>\n",
       "    <tr>\n",
       "      <th>Marathahalli</th>\n",
       "      <td>701</td>\n",
       "      <td>1104</td>\n",
       "    </tr>\n",
       "    <tr>\n",
       "      <th>New BEL Road</th>\n",
       "      <td>255</td>\n",
       "      <td>389</td>\n",
       "    </tr>\n",
       "    <tr>\n",
       "      <th>Old Airport Road</th>\n",
       "      <td>221</td>\n",
       "      <td>216</td>\n",
       "    </tr>\n",
       "    <tr>\n",
       "      <th>Rajajinagar</th>\n",
       "      <td>286</td>\n",
       "      <td>305</td>\n",
       "    </tr>\n",
       "    <tr>\n",
       "      <th>Residency Road</th>\n",
       "      <td>424</td>\n",
       "      <td>247</td>\n",
       "    </tr>\n",
       "    <tr>\n",
       "      <th>Richmond Road</th>\n",
       "      <td>557</td>\n",
       "      <td>246</td>\n",
       "    </tr>\n",
       "    <tr>\n",
       "      <th>Sarjapur Road</th>\n",
       "      <td>323</td>\n",
       "      <td>724</td>\n",
       "    </tr>\n",
       "    <tr>\n",
       "      <th>Shanti Nagar</th>\n",
       "      <td>289</td>\n",
       "      <td>219</td>\n",
       "    </tr>\n",
       "    <tr>\n",
       "      <th>Shivajinagar</th>\n",
       "      <td>354</td>\n",
       "      <td>144</td>\n",
       "    </tr>\n",
       "    <tr>\n",
       "      <th>St. Marks Road</th>\n",
       "      <td>176</td>\n",
       "      <td>167</td>\n",
       "    </tr>\n",
       "    <tr>\n",
       "      <th>Ulsoor</th>\n",
       "      <td>389</td>\n",
       "      <td>622</td>\n",
       "    </tr>\n",
       "    <tr>\n",
       "      <th>Whitefield</th>\n",
       "      <td>986</td>\n",
       "      <td>1119</td>\n",
       "    </tr>\n",
       "    <tr>\n",
       "      <th>others</th>\n",
       "      <td>2064</td>\n",
       "      <td>2890</td>\n",
       "    </tr>\n",
       "  </tbody>\n",
       "</table>\n",
       "</div>"
      ],
      "text/plain": [
       "                       name      \n",
       "online_order             No   Yes\n",
       "location                         \n",
       "BTM                    1763  3293\n",
       "Banashankari            397   505\n",
       "Banaswadi               302   338\n",
       "Bannerghatta Road       685   924\n",
       "Basavanagudi            243   441\n",
       "Bellandur               517   751\n",
       "Brigade Road            552   658\n",
       "Brookefield             239   417\n",
       "Church Street           226   340\n",
       "Commercial Street       228   142\n",
       "Cunningham Road         168   322\n",
       "Domlur                  247   235\n",
       "Ejipura                 214   219\n",
       "Electronic City         676   570\n",
       "Frazer Town             287   427\n",
       "HSR                     584  1910\n",
       "Indiranagar             697  1329\n",
       "JP Nagar                911  1307\n",
       "Jayanagar               552  1364\n",
       "Kalyan Nagar            350   491\n",
       "Kammanahalli            264   375\n",
       "Koramangala 1st Block   384   852\n",
       "Koramangala 4th Block   459   558\n",
       "Koramangala 5th Block   866  1613\n",
       "Koramangala 6th Block   445   682\n",
       "Koramangala 7th Block   389   785\n",
       "Lavelle Road            315   203\n",
       "MG Road                 520   373\n",
       "Malleshwaram            309   412\n",
       "Marathahalli            701  1104\n",
       "New BEL Road            255   389\n",
       "Old Airport Road        221   216\n",
       "Rajajinagar             286   305\n",
       "Residency Road          424   247\n",
       "Richmond Road           557   246\n",
       "Sarjapur Road           323   724\n",
       "Shanti Nagar            289   219\n",
       "Shivajinagar            354   144\n",
       "St. Marks Road          176   167\n",
       "Ulsoor                  389   622\n",
       "Whitefield              986  1119\n",
       "others                 2064  2890"
      ]
     },
     "execution_count": 29,
     "metadata": {},
     "output_type": "execute_result"
    }
   ],
   "source": [
    "df1 = df.groupby(['location','online_order'])['name'].count()\n",
    "df1.to_csv('location_online.csv')\n",
    "df1 = pd.read_csv('location_online.csv')\n",
    "df1 = pd.pivot_table(df1, values=None, index=['location'], columns=['online_order'], fill_value=0, aggfunc=np.sum)\n",
    "df1"
   ]
  },
  {
   "cell_type": "code",
   "execution_count": 30,
   "id": "76d378ab",
   "metadata": {
    "execution": {
     "iopub.execute_input": "2021-08-12T11:55:40.289524Z",
     "iopub.status.busy": "2021-08-12T11:55:40.288745Z",
     "iopub.status.idle": "2021-08-12T11:55:41.278846Z",
     "shell.execute_reply": "2021-08-12T11:55:41.278311Z",
     "shell.execute_reply.started": "2021-08-12T11:51:35.518201Z"
    },
    "papermill": {
     "duration": 1.046274,
     "end_time": "2021-08-12T11:55:41.279048",
     "exception": false,
     "start_time": "2021-08-12T11:55:40.232774",
     "status": "completed"
    },
    "tags": []
   },
   "outputs": [
    {
     "data": {
      "text/plain": [
       "<AxesSubplot:xlabel='location'>"
      ]
     },
     "execution_count": 30,
     "metadata": {},
     "output_type": "execute_result"
    },
    {
     "data": {
      "image/png": "[encoded data removed]",
      "text/plain": [
       "<Figure size 864x432 with 1 Axes>"
      ]
     },
     "metadata": {
      "needs_background": "light"
     },
     "output_type": "display_data"
    }
   ],
   "source": [
    "df1.plot(kind = 'bar', figsize = (12,6))"
   ]
  },
  {
   "cell_type": "code",
   "execution_count": 31,
   "id": "26a92b80",
   "metadata": {
    "execution": {
     "iopub.execute_input": "2021-08-12T11:55:41.397317Z",
     "iopub.status.busy": "2021-08-12T11:55:41.396323Z",
     "iopub.status.idle": "2021-08-12T11:55:41.440818Z",
     "shell.execute_reply": "2021-08-12T11:55:41.439794Z",
     "shell.execute_reply.started": "2021-08-12T11:51:45.735395Z"
    },
    "papermill": {
     "duration": 0.108262,
     "end_time": "2021-08-12T11:55:41.440998",
     "exception": false,
     "start_time": "2021-08-12T11:55:41.332736",
     "status": "completed"
    },
    "tags": []
   },
   "outputs": [
    {
     "data": {
      "text/html": [
       "<div>\n",
       "<style scoped>\n",
       "    .dataframe tbody tr th:only-of-type {\n",
       "        vertical-align: middle;\n",
       "    }\n",
       "\n",
       "    .dataframe tbody tr th {\n",
       "        vertical-align: top;\n",
       "    }\n",
       "\n",
       "    .dataframe thead tr th {\n",
       "        text-align: left;\n",
       "    }\n",
       "\n",
       "    .dataframe thead tr:last-of-type th {\n",
       "        text-align: right;\n",
       "    }\n",
       "</style>\n",
       "<table border=\"1\" class=\"dataframe\">\n",
       "  <thead>\n",
       "    <tr>\n",
       "      <th></th>\n",
       "      <th colspan=\"2\" halign=\"left\">name</th>\n",
       "    </tr>\n",
       "    <tr>\n",
       "      <th>book_table</th>\n",
       "      <th>No</th>\n",
       "      <th>Yes</th>\n",
       "    </tr>\n",
       "    <tr>\n",
       "      <th>location</th>\n",
       "      <th></th>\n",
       "      <th></th>\n",
       "    </tr>\n",
       "  </thead>\n",
       "  <tbody>\n",
       "    <tr>\n",
       "      <th>BTM</th>\n",
       "      <td>4889</td>\n",
       "      <td>167</td>\n",
       "    </tr>\n",
       "    <tr>\n",
       "      <th>Banashankari</th>\n",
       "      <td>839</td>\n",
       "      <td>63</td>\n",
       "    </tr>\n",
       "    <tr>\n",
       "      <th>Banaswadi</th>\n",
       "      <td>632</td>\n",
       "      <td>8</td>\n",
       "    </tr>\n",
       "    <tr>\n",
       "      <th>Bannerghatta Road</th>\n",
       "      <td>1510</td>\n",
       "      <td>99</td>\n",
       "    </tr>\n",
       "    <tr>\n",
       "      <th>Basavanagudi</th>\n",
       "      <td>668</td>\n",
       "      <td>16</td>\n",
       "    </tr>\n",
       "    <tr>\n",
       "      <th>Bellandur</th>\n",
       "      <td>1170</td>\n",
       "      <td>98</td>\n",
       "    </tr>\n",
       "    <tr>\n",
       "      <th>Brigade Road</th>\n",
       "      <td>1034</td>\n",
       "      <td>176</td>\n",
       "    </tr>\n",
       "    <tr>\n",
       "      <th>Brookefield</th>\n",
       "      <td>582</td>\n",
       "      <td>74</td>\n",
       "    </tr>\n",
       "    <tr>\n",
       "      <th>Church Street</th>\n",
       "      <td>385</td>\n",
       "      <td>181</td>\n",
       "    </tr>\n",
       "    <tr>\n",
       "      <th>Commercial Street</th>\n",
       "      <td>370</td>\n",
       "      <td>0</td>\n",
       "    </tr>\n",
       "    <tr>\n",
       "      <th>Cunningham Road</th>\n",
       "      <td>315</td>\n",
       "      <td>175</td>\n",
       "    </tr>\n",
       "    <tr>\n",
       "      <th>Domlur</th>\n",
       "      <td>427</td>\n",
       "      <td>55</td>\n",
       "    </tr>\n",
       "    <tr>\n",
       "      <th>Ejipura</th>\n",
       "      <td>433</td>\n",
       "      <td>0</td>\n",
       "    </tr>\n",
       "    <tr>\n",
       "      <th>Electronic City</th>\n",
       "      <td>1148</td>\n",
       "      <td>98</td>\n",
       "    </tr>\n",
       "    <tr>\n",
       "      <th>Frazer Town</th>\n",
       "      <td>706</td>\n",
       "      <td>8</td>\n",
       "    </tr>\n",
       "    <tr>\n",
       "      <th>HSR</th>\n",
       "      <td>2277</td>\n",
       "      <td>217</td>\n",
       "    </tr>\n",
       "    <tr>\n",
       "      <th>Indiranagar</th>\n",
       "      <td>1578</td>\n",
       "      <td>448</td>\n",
       "    </tr>\n",
       "    <tr>\n",
       "      <th>JP Nagar</th>\n",
       "      <td>1903</td>\n",
       "      <td>315</td>\n",
       "    </tr>\n",
       "    <tr>\n",
       "      <th>Jayanagar</th>\n",
       "      <td>1637</td>\n",
       "      <td>279</td>\n",
       "    </tr>\n",
       "    <tr>\n",
       "      <th>Kalyan Nagar</th>\n",
       "      <td>692</td>\n",
       "      <td>149</td>\n",
       "    </tr>\n",
       "    <tr>\n",
       "      <th>Kammanahalli</th>\n",
       "      <td>590</td>\n",
       "      <td>49</td>\n",
       "    </tr>\n",
       "    <tr>\n",
       "      <th>Koramangala 1st Block</th>\n",
       "      <td>1186</td>\n",
       "      <td>50</td>\n",
       "    </tr>\n",
       "    <tr>\n",
       "      <th>Koramangala 4th Block</th>\n",
       "      <td>695</td>\n",
       "      <td>322</td>\n",
       "    </tr>\n",
       "    <tr>\n",
       "      <th>Koramangala 5th Block</th>\n",
       "      <td>1787</td>\n",
       "      <td>692</td>\n",
       "    </tr>\n",
       "    <tr>\n",
       "      <th>Koramangala 6th Block</th>\n",
       "      <td>1015</td>\n",
       "      <td>112</td>\n",
       "    </tr>\n",
       "    <tr>\n",
       "      <th>Koramangala 7th Block</th>\n",
       "      <td>1012</td>\n",
       "      <td>162</td>\n",
       "    </tr>\n",
       "    <tr>\n",
       "      <th>Lavelle Road</th>\n",
       "      <td>290</td>\n",
       "      <td>228</td>\n",
       "    </tr>\n",
       "    <tr>\n",
       "      <th>MG Road</th>\n",
       "      <td>546</td>\n",
       "      <td>347</td>\n",
       "    </tr>\n",
       "    <tr>\n",
       "      <th>Malleshwaram</th>\n",
       "      <td>632</td>\n",
       "      <td>89</td>\n",
       "    </tr>\n",
       "    <tr>\n",
       "      <th>Marathahalli</th>\n",
       "      <td>1642</td>\n",
       "      <td>163</td>\n",
       "    </tr>\n",
       "    <tr>\n",
       "      <th>New BEL Road</th>\n",
       "      <td>588</td>\n",
       "      <td>56</td>\n",
       "    </tr>\n",
       "    <tr>\n",
       "      <th>Old Airport Road</th>\n",
       "      <td>378</td>\n",
       "      <td>59</td>\n",
       "    </tr>\n",
       "    <tr>\n",
       "      <th>Rajajinagar</th>\n",
       "      <td>550</td>\n",
       "      <td>41</td>\n",
       "    </tr>\n",
       "    <tr>\n",
       "      <th>Residency Road</th>\n",
       "      <td>522</td>\n",
       "      <td>149</td>\n",
       "    </tr>\n",
       "    <tr>\n",
       "      <th>Richmond Road</th>\n",
       "      <td>687</td>\n",
       "      <td>116</td>\n",
       "    </tr>\n",
       "    <tr>\n",
       "      <th>Sarjapur Road</th>\n",
       "      <td>893</td>\n",
       "      <td>154</td>\n",
       "    </tr>\n",
       "    <tr>\n",
       "      <th>Shanti Nagar</th>\n",
       "      <td>451</td>\n",
       "      <td>57</td>\n",
       "    </tr>\n",
       "    <tr>\n",
       "      <th>Shivajinagar</th>\n",
       "      <td>475</td>\n",
       "      <td>23</td>\n",
       "    </tr>\n",
       "    <tr>\n",
       "      <th>St. Marks Road</th>\n",
       "      <td>219</td>\n",
       "      <td>124</td>\n",
       "    </tr>\n",
       "    <tr>\n",
       "      <th>Ulsoor</th>\n",
       "      <td>834</td>\n",
       "      <td>177</td>\n",
       "    </tr>\n",
       "    <tr>\n",
       "      <th>Whitefield</th>\n",
       "      <td>1852</td>\n",
       "      <td>253</td>\n",
       "    </tr>\n",
       "    <tr>\n",
       "      <th>others</th>\n",
       "      <td>4587</td>\n",
       "      <td>367</td>\n",
       "    </tr>\n",
       "  </tbody>\n",
       "</table>\n",
       "</div>"
      ],
      "text/plain": [
       "                       name     \n",
       "book_table               No  Yes\n",
       "location                        \n",
       "BTM                    4889  167\n",
       "Banashankari            839   63\n",
       "Banaswadi               632    8\n",
       "Bannerghatta Road      1510   99\n",
       "Basavanagudi            668   16\n",
       "Bellandur              1170   98\n",
       "Brigade Road           1034  176\n",
       "Brookefield             582   74\n",
       "Church Street           385  181\n",
       "Commercial Street       370    0\n",
       "Cunningham Road         315  175\n",
       "Domlur                  427   55\n",
       "Ejipura                 433    0\n",
       "Electronic City        1148   98\n",
       "Frazer Town             706    8\n",
       "HSR                    2277  217\n",
       "Indiranagar            1578  448\n",
       "JP Nagar               1903  315\n",
       "Jayanagar              1637  279\n",
       "Kalyan Nagar            692  149\n",
       "Kammanahalli            590   49\n",
       "Koramangala 1st Block  1186   50\n",
       "Koramangala 4th Block   695  322\n",
       "Koramangala 5th Block  1787  692\n",
       "Koramangala 6th Block  1015  112\n",
       "Koramangala 7th Block  1012  162\n",
       "Lavelle Road            290  228\n",
       "MG Road                 546  347\n",
       "Malleshwaram            632   89\n",
       "Marathahalli           1642  163\n",
       "New BEL Road            588   56\n",
       "Old Airport Road        378   59\n",
       "Rajajinagar             550   41\n",
       "Residency Road          522  149\n",
       "Richmond Road           687  116\n",
       "Sarjapur Road           893  154\n",
       "Shanti Nagar            451   57\n",
       "Shivajinagar            475   23\n",
       "St. Marks Road          219  124\n",
       "Ulsoor                  834  177\n",
       "Whitefield             1852  253\n",
       "others                 4587  367"
      ]
     },
     "execution_count": 31,
     "metadata": {},
     "output_type": "execute_result"
    }
   ],
   "source": [
    "df2 = df.groupby(['location','book_table'])['name'].count()\n",
    "df2.to_csv('location_booktable.csv')\n",
    "df2 = pd.read_csv('location_booktable.csv')\n",
    "df2 = pd.pivot_table(df2, values=None, index=['location'], columns=['book_table'], fill_value=0, aggfunc=np.sum)\n",
    "df2"
   ]
  },
  {
   "cell_type": "code",
   "execution_count": 32,
   "id": "0c523ded",
   "metadata": {
    "execution": {
     "iopub.execute_input": "2021-08-12T11:55:41.584124Z",
     "iopub.status.busy": "2021-08-12T11:55:41.579836Z",
     "iopub.status.idle": "2021-08-12T11:55:42.401687Z",
     "shell.execute_reply": "2021-08-12T11:55:42.401171Z",
     "shell.execute_reply.started": "2021-08-12T11:51:57.107699Z"
    },
    "papermill": {
     "duration": 0.906688,
     "end_time": "2021-08-12T11:55:42.401835",
     "exception": false,
     "start_time": "2021-08-12T11:55:41.495147",
     "status": "completed"
    },
    "tags": []
   },
   "outputs": [
    {
     "data": {
      "text/plain": [
       "<AxesSubplot:xlabel='location'>"
      ]
     },
     "execution_count": 32,
     "metadata": {},
     "output_type": "execute_result"
    },
    {
     "data": {
      "image/png": "[encoded data removed]",
      "text/plain": [
       "<Figure size 864x432 with 1 Axes>"
      ]
     },
     "metadata": {
      "needs_background": "light"
     },
     "output_type": "display_data"
    }
   ],
   "source": [
    "df2.plot(kind = 'bar', figsize = (12,6))"
   ]
  },
  {
   "cell_type": "markdown",
   "id": "d115bbd2",
   "metadata": {
    "papermill": {
     "duration": 0.055739,
     "end_time": "2021-08-12T11:55:42.513486",
     "exception": false,
     "start_time": "2021-08-12T11:55:42.457747",
     "status": "completed"
    },
    "tags": []
   },
   "source": [
    "# Group types of restaurents  loc"
   ]
  },
  {
   "cell_type": "code",
   "execution_count": 33,
   "id": "9338a404",
   "metadata": {
    "execution": {
     "iopub.execute_input": "2021-08-12T11:55:42.632381Z",
     "iopub.status.busy": "2021-08-12T11:55:42.631700Z",
     "iopub.status.idle": "2021-08-12T11:55:42.687043Z",
     "shell.execute_reply": "2021-08-12T11:55:42.687537Z",
     "shell.execute_reply.started": "2021-08-12T11:53:11.527508Z"
    },
    "papermill": {
     "duration": 0.118282,
     "end_time": "2021-08-12T11:55:42.687706",
     "exception": false,
     "start_time": "2021-08-12T11:55:42.569424",
     "status": "completed"
    },
    "tags": []
   },
   "outputs": [
    {
     "data": {
      "text/html": [
       "<div>\n",
       "<style scoped>\n",
       "    .dataframe tbody tr th:only-of-type {\n",
       "        vertical-align: middle;\n",
       "    }\n",
       "\n",
       "    .dataframe tbody tr th {\n",
       "        vertical-align: top;\n",
       "    }\n",
       "\n",
       "    .dataframe thead tr th {\n",
       "        text-align: left;\n",
       "    }\n",
       "\n",
       "    .dataframe thead tr:last-of-type th {\n",
       "        text-align: right;\n",
       "    }\n",
       "</style>\n",
       "<table border=\"1\" class=\"dataframe\">\n",
       "  <thead>\n",
       "    <tr>\n",
       "      <th></th>\n",
       "      <th colspan=\"7\" halign=\"left\">name</th>\n",
       "    </tr>\n",
       "    <tr>\n",
       "      <th>Type</th>\n",
       "      <th>Buffet</th>\n",
       "      <th>Cafes</th>\n",
       "      <th>Delivery</th>\n",
       "      <th>Desserts</th>\n",
       "      <th>Dine-out</th>\n",
       "      <th>Drinks &amp; nightlife</th>\n",
       "      <th>Pubs and bars</th>\n",
       "    </tr>\n",
       "    <tr>\n",
       "      <th>location</th>\n",
       "      <th></th>\n",
       "      <th></th>\n",
       "      <th></th>\n",
       "      <th></th>\n",
       "      <th></th>\n",
       "      <th></th>\n",
       "      <th></th>\n",
       "    </tr>\n",
       "  </thead>\n",
       "  <tbody>\n",
       "    <tr>\n",
       "      <th>BTM</th>\n",
       "      <td>21</td>\n",
       "      <td>83</td>\n",
       "      <td>3053</td>\n",
       "      <td>198</td>\n",
       "      <td>1660</td>\n",
       "      <td>22</td>\n",
       "      <td>19</td>\n",
       "    </tr>\n",
       "    <tr>\n",
       "      <th>Banashankari</th>\n",
       "      <td>7</td>\n",
       "      <td>36</td>\n",
       "      <td>418</td>\n",
       "      <td>71</td>\n",
       "      <td>356</td>\n",
       "      <td>14</td>\n",
       "      <td>0</td>\n",
       "    </tr>\n",
       "    <tr>\n",
       "      <th>Banaswadi</th>\n",
       "      <td>0</td>\n",
       "      <td>24</td>\n",
       "      <td>310</td>\n",
       "      <td>37</td>\n",
       "      <td>262</td>\n",
       "      <td>6</td>\n",
       "      <td>1</td>\n",
       "    </tr>\n",
       "    <tr>\n",
       "      <th>Bannerghatta Road</th>\n",
       "      <td>9</td>\n",
       "      <td>46</td>\n",
       "      <td>828</td>\n",
       "      <td>137</td>\n",
       "      <td>578</td>\n",
       "      <td>9</td>\n",
       "      <td>2</td>\n",
       "    </tr>\n",
       "    <tr>\n",
       "      <th>Basavanagudi</th>\n",
       "      <td>7</td>\n",
       "      <td>11</td>\n",
       "      <td>344</td>\n",
       "      <td>66</td>\n",
       "      <td>251</td>\n",
       "      <td>5</td>\n",
       "      <td>0</td>\n",
       "    </tr>\n",
       "    <tr>\n",
       "      <th>Bellandur</th>\n",
       "      <td>28</td>\n",
       "      <td>36</td>\n",
       "      <td>617</td>\n",
       "      <td>75</td>\n",
       "      <td>479</td>\n",
       "      <td>17</td>\n",
       "      <td>16</td>\n",
       "    </tr>\n",
       "    <tr>\n",
       "      <th>Brigade Road</th>\n",
       "      <td>25</td>\n",
       "      <td>46</td>\n",
       "      <td>497</td>\n",
       "      <td>108</td>\n",
       "      <td>455</td>\n",
       "      <td>57</td>\n",
       "      <td>22</td>\n",
       "    </tr>\n",
       "    <tr>\n",
       "      <th>Brookefield</th>\n",
       "      <td>6</td>\n",
       "      <td>17</td>\n",
       "      <td>339</td>\n",
       "      <td>45</td>\n",
       "      <td>245</td>\n",
       "      <td>4</td>\n",
       "      <td>0</td>\n",
       "    </tr>\n",
       "    <tr>\n",
       "      <th>Church Street</th>\n",
       "      <td>19</td>\n",
       "      <td>51</td>\n",
       "      <td>193</td>\n",
       "      <td>29</td>\n",
       "      <td>215</td>\n",
       "      <td>36</td>\n",
       "      <td>23</td>\n",
       "    </tr>\n",
       "    <tr>\n",
       "      <th>Commercial Street</th>\n",
       "      <td>0</td>\n",
       "      <td>13</td>\n",
       "      <td>121</td>\n",
       "      <td>77</td>\n",
       "      <td>159</td>\n",
       "      <td>0</td>\n",
       "      <td>0</td>\n",
       "    </tr>\n",
       "    <tr>\n",
       "      <th>Cunningham Road</th>\n",
       "      <td>29</td>\n",
       "      <td>34</td>\n",
       "      <td>194</td>\n",
       "      <td>26</td>\n",
       "      <td>184</td>\n",
       "      <td>16</td>\n",
       "      <td>7</td>\n",
       "    </tr>\n",
       "    <tr>\n",
       "      <th>Domlur</th>\n",
       "      <td>15</td>\n",
       "      <td>13</td>\n",
       "      <td>261</td>\n",
       "      <td>35</td>\n",
       "      <td>135</td>\n",
       "      <td>12</td>\n",
       "      <td>11</td>\n",
       "    </tr>\n",
       "    <tr>\n",
       "      <th>Ejipura</th>\n",
       "      <td>0</td>\n",
       "      <td>0</td>\n",
       "      <td>245</td>\n",
       "      <td>16</td>\n",
       "      <td>172</td>\n",
       "      <td>0</td>\n",
       "      <td>0</td>\n",
       "    </tr>\n",
       "    <tr>\n",
       "      <th>Electronic City</th>\n",
       "      <td>23</td>\n",
       "      <td>24</td>\n",
       "      <td>570</td>\n",
       "      <td>71</td>\n",
       "      <td>516</td>\n",
       "      <td>21</td>\n",
       "      <td>21</td>\n",
       "    </tr>\n",
       "    <tr>\n",
       "      <th>Frazer Town</th>\n",
       "      <td>1</td>\n",
       "      <td>11</td>\n",
       "      <td>470</td>\n",
       "      <td>56</td>\n",
       "      <td>172</td>\n",
       "      <td>2</td>\n",
       "      <td>2</td>\n",
       "    </tr>\n",
       "    <tr>\n",
       "      <th>HSR</th>\n",
       "      <td>19</td>\n",
       "      <td>49</td>\n",
       "      <td>1694</td>\n",
       "      <td>120</td>\n",
       "      <td>580</td>\n",
       "      <td>14</td>\n",
       "      <td>18</td>\n",
       "    </tr>\n",
       "    <tr>\n",
       "      <th>Indiranagar</th>\n",
       "      <td>38</td>\n",
       "      <td>97</td>\n",
       "      <td>1091</td>\n",
       "      <td>140</td>\n",
       "      <td>529</td>\n",
       "      <td>65</td>\n",
       "      <td>66</td>\n",
       "    </tr>\n",
       "    <tr>\n",
       "      <th>JP Nagar</th>\n",
       "      <td>45</td>\n",
       "      <td>76</td>\n",
       "      <td>1151</td>\n",
       "      <td>166</td>\n",
       "      <td>722</td>\n",
       "      <td>51</td>\n",
       "      <td>7</td>\n",
       "    </tr>\n",
       "    <tr>\n",
       "      <th>Jayanagar</th>\n",
       "      <td>27</td>\n",
       "      <td>77</td>\n",
       "      <td>1043</td>\n",
       "      <td>182</td>\n",
       "      <td>575</td>\n",
       "      <td>12</td>\n",
       "      <td>0</td>\n",
       "    </tr>\n",
       "    <tr>\n",
       "      <th>Kalyan Nagar</th>\n",
       "      <td>9</td>\n",
       "      <td>45</td>\n",
       "      <td>366</td>\n",
       "      <td>88</td>\n",
       "      <td>315</td>\n",
       "      <td>18</td>\n",
       "      <td>0</td>\n",
       "    </tr>\n",
       "    <tr>\n",
       "      <th>Kammanahalli</th>\n",
       "      <td>2</td>\n",
       "      <td>27</td>\n",
       "      <td>329</td>\n",
       "      <td>35</td>\n",
       "      <td>240</td>\n",
       "      <td>6</td>\n",
       "      <td>0</td>\n",
       "    </tr>\n",
       "    <tr>\n",
       "      <th>Koramangala 1st Block</th>\n",
       "      <td>3</td>\n",
       "      <td>26</td>\n",
       "      <td>716</td>\n",
       "      <td>70</td>\n",
       "      <td>398</td>\n",
       "      <td>7</td>\n",
       "      <td>16</td>\n",
       "    </tr>\n",
       "    <tr>\n",
       "      <th>Koramangala 4th Block</th>\n",
       "      <td>21</td>\n",
       "      <td>53</td>\n",
       "      <td>464</td>\n",
       "      <td>81</td>\n",
       "      <td>302</td>\n",
       "      <td>62</td>\n",
       "      <td>34</td>\n",
       "    </tr>\n",
       "    <tr>\n",
       "      <th>Koramangala 5th Block</th>\n",
       "      <td>65</td>\n",
       "      <td>146</td>\n",
       "      <td>1075</td>\n",
       "      <td>209</td>\n",
       "      <td>842</td>\n",
       "      <td>84</td>\n",
       "      <td>58</td>\n",
       "    </tr>\n",
       "    <tr>\n",
       "      <th>Koramangala 6th Block</th>\n",
       "      <td>18</td>\n",
       "      <td>43</td>\n",
       "      <td>511</td>\n",
       "      <td>70</td>\n",
       "      <td>411</td>\n",
       "      <td>51</td>\n",
       "      <td>23</td>\n",
       "    </tr>\n",
       "    <tr>\n",
       "      <th>Koramangala 7th Block</th>\n",
       "      <td>25</td>\n",
       "      <td>52</td>\n",
       "      <td>503</td>\n",
       "      <td>127</td>\n",
       "      <td>417</td>\n",
       "      <td>25</td>\n",
       "      <td>25</td>\n",
       "    </tr>\n",
       "    <tr>\n",
       "      <th>Lavelle Road</th>\n",
       "      <td>30</td>\n",
       "      <td>27</td>\n",
       "      <td>127</td>\n",
       "      <td>50</td>\n",
       "      <td>191</td>\n",
       "      <td>59</td>\n",
       "      <td>34</td>\n",
       "    </tr>\n",
       "    <tr>\n",
       "      <th>MG Road</th>\n",
       "      <td>51</td>\n",
       "      <td>76</td>\n",
       "      <td>266</td>\n",
       "      <td>68</td>\n",
       "      <td>343</td>\n",
       "      <td>53</td>\n",
       "      <td>36</td>\n",
       "    </tr>\n",
       "    <tr>\n",
       "      <th>Malleshwaram</th>\n",
       "      <td>11</td>\n",
       "      <td>31</td>\n",
       "      <td>269</td>\n",
       "      <td>85</td>\n",
       "      <td>291</td>\n",
       "      <td>20</td>\n",
       "      <td>14</td>\n",
       "    </tr>\n",
       "    <tr>\n",
       "      <th>Marathahalli</th>\n",
       "      <td>34</td>\n",
       "      <td>32</td>\n",
       "      <td>980</td>\n",
       "      <td>105</td>\n",
       "      <td>630</td>\n",
       "      <td>22</td>\n",
       "      <td>2</td>\n",
       "    </tr>\n",
       "    <tr>\n",
       "      <th>New BEL Road</th>\n",
       "      <td>4</td>\n",
       "      <td>29</td>\n",
       "      <td>338</td>\n",
       "      <td>33</td>\n",
       "      <td>224</td>\n",
       "      <td>8</td>\n",
       "      <td>8</td>\n",
       "    </tr>\n",
       "    <tr>\n",
       "      <th>Old Airport Road</th>\n",
       "      <td>12</td>\n",
       "      <td>5</td>\n",
       "      <td>200</td>\n",
       "      <td>35</td>\n",
       "      <td>164</td>\n",
       "      <td>12</td>\n",
       "      <td>9</td>\n",
       "    </tr>\n",
       "    <tr>\n",
       "      <th>Rajajinagar</th>\n",
       "      <td>10</td>\n",
       "      <td>4</td>\n",
       "      <td>258</td>\n",
       "      <td>55</td>\n",
       "      <td>251</td>\n",
       "      <td>3</td>\n",
       "      <td>10</td>\n",
       "    </tr>\n",
       "    <tr>\n",
       "      <th>Residency Road</th>\n",
       "      <td>20</td>\n",
       "      <td>31</td>\n",
       "      <td>187</td>\n",
       "      <td>63</td>\n",
       "      <td>289</td>\n",
       "      <td>55</td>\n",
       "      <td>26</td>\n",
       "    </tr>\n",
       "    <tr>\n",
       "      <th>Richmond Road</th>\n",
       "      <td>63</td>\n",
       "      <td>21</td>\n",
       "      <td>257</td>\n",
       "      <td>78</td>\n",
       "      <td>356</td>\n",
       "      <td>16</td>\n",
       "      <td>12</td>\n",
       "    </tr>\n",
       "    <tr>\n",
       "      <th>Sarjapur Road</th>\n",
       "      <td>25</td>\n",
       "      <td>22</td>\n",
       "      <td>558</td>\n",
       "      <td>82</td>\n",
       "      <td>319</td>\n",
       "      <td>19</td>\n",
       "      <td>22</td>\n",
       "    </tr>\n",
       "    <tr>\n",
       "      <th>Shanti Nagar</th>\n",
       "      <td>9</td>\n",
       "      <td>22</td>\n",
       "      <td>198</td>\n",
       "      <td>39</td>\n",
       "      <td>229</td>\n",
       "      <td>9</td>\n",
       "      <td>2</td>\n",
       "    </tr>\n",
       "    <tr>\n",
       "      <th>Shivajinagar</th>\n",
       "      <td>6</td>\n",
       "      <td>17</td>\n",
       "      <td>143</td>\n",
       "      <td>37</td>\n",
       "      <td>280</td>\n",
       "      <td>7</td>\n",
       "      <td>8</td>\n",
       "    </tr>\n",
       "    <tr>\n",
       "      <th>St. Marks Road</th>\n",
       "      <td>5</td>\n",
       "      <td>10</td>\n",
       "      <td>111</td>\n",
       "      <td>10</td>\n",
       "      <td>145</td>\n",
       "      <td>40</td>\n",
       "      <td>22</td>\n",
       "    </tr>\n",
       "    <tr>\n",
       "      <th>Ulsoor</th>\n",
       "      <td>16</td>\n",
       "      <td>56</td>\n",
       "      <td>456</td>\n",
       "      <td>71</td>\n",
       "      <td>359</td>\n",
       "      <td>23</td>\n",
       "      <td>30</td>\n",
       "    </tr>\n",
       "    <tr>\n",
       "      <th>Whitefield</th>\n",
       "      <td>28</td>\n",
       "      <td>51</td>\n",
       "      <td>1041</td>\n",
       "      <td>137</td>\n",
       "      <td>768</td>\n",
       "      <td>47</td>\n",
       "      <td>33</td>\n",
       "    </tr>\n",
       "    <tr>\n",
       "      <th>others</th>\n",
       "      <td>83</td>\n",
       "      <td>133</td>\n",
       "      <td>2787</td>\n",
       "      <td>276</td>\n",
       "      <td>1553</td>\n",
       "      <td>75</td>\n",
       "      <td>47</td>\n",
       "    </tr>\n",
       "  </tbody>\n",
       "</table>\n",
       "</div>"
      ],
      "text/plain": [
       "                        name                                   \\\n",
       "Type                  Buffet Cafes Delivery Desserts Dine-out   \n",
       "location                                                        \n",
       "BTM                       21    83     3053      198     1660   \n",
       "Banashankari               7    36      418       71      356   \n",
       "Banaswadi                  0    24      310       37      262   \n",
       "Bannerghatta Road          9    46      828      137      578   \n",
       "Basavanagudi               7    11      344       66      251   \n",
       "Bellandur                 28    36      617       75      479   \n",
       "Brigade Road              25    46      497      108      455   \n",
       "Brookefield                6    17      339       45      245   \n",
       "Church Street             19    51      193       29      215   \n",
       "Commercial Street          0    13      121       77      159   \n",
       "Cunningham Road           29    34      194       26      184   \n",
       "Domlur                    15    13      261       35      135   \n",
       "Ejipura                    0     0      245       16      172   \n",
       "Electronic City           23    24      570       71      516   \n",
       "Frazer Town                1    11      470       56      172   \n",
       "HSR                       19    49     1694      120      580   \n",
       "Indiranagar               38    97     1091      140      529   \n",
       "JP Nagar                  45    76     1151      166      722   \n",
       "Jayanagar                 27    77     1043      182      575   \n",
       "Kalyan Nagar               9    45      366       88      315   \n",
       "Kammanahalli               2    27      329       35      240   \n",
       "Koramangala 1st Block      3    26      716       70      398   \n",
       "Koramangala 4th Block     21    53      464       81      302   \n",
       "Koramangala 5th Block     65   146     1075      209      842   \n",
       "Koramangala 6th Block     18    43      511       70      411   \n",
       "Koramangala 7th Block     25    52      503      127      417   \n",
       "Lavelle Road              30    27      127       50      191   \n",
       "MG Road                   51    76      266       68      343   \n",
       "Malleshwaram              11    31      269       85      291   \n",
       "Marathahalli              34    32      980      105      630   \n",
       "New BEL Road               4    29      338       33      224   \n",
       "Old Airport Road          12     5      200       35      164   \n",
       "Rajajinagar               10     4      258       55      251   \n",
       "Residency Road            20    31      187       63      289   \n",
       "Richmond Road             63    21      257       78      356   \n",
       "Sarjapur Road             25    22      558       82      319   \n",
       "Shanti Nagar               9    22      198       39      229   \n",
       "Shivajinagar               6    17      143       37      280   \n",
       "St. Marks Road             5    10      111       10      145   \n",
       "Ulsoor                    16    56      456       71      359   \n",
       "Whitefield                28    51     1041      137      768   \n",
       "others                    83   133     2787      276     1553   \n",
       "\n",
       "                                                        \n",
       "Type                  Drinks & nightlife Pubs and bars  \n",
       "location                                                \n",
       "BTM                                   22            19  \n",
       "Banashankari                          14             0  \n",
       "Banaswadi                              6             1  \n",
       "Bannerghatta Road                      9             2  \n",
       "Basavanagudi                           5             0  \n",
       "Bellandur                             17            16  \n",
       "Brigade Road                          57            22  \n",
       "Brookefield                            4             0  \n",
       "Church Street                         36            23  \n",
       "Commercial Street                      0             0  \n",
       "Cunningham Road                       16             7  \n",
       "Domlur                                12            11  \n",
       "Ejipura                                0             0  \n",
       "Electronic City                       21            21  \n",
       "Frazer Town                            2             2  \n",
       "HSR                                   14            18  \n",
       "Indiranagar                           65            66  \n",
       "JP Nagar                              51             7  \n",
       "Jayanagar                             12             0  \n",
       "Kalyan Nagar                          18             0  \n",
       "Kammanahalli                           6             0  \n",
       "Koramangala 1st Block                  7            16  \n",
       "Koramangala 4th Block                 62            34  \n",
       "Koramangala 5th Block                 84            58  \n",
       "Koramangala 6th Block                 51            23  \n",
       "Koramangala 7th Block                 25            25  \n",
       "Lavelle Road                          59            34  \n",
       "MG Road                               53            36  \n",
       "Malleshwaram                          20            14  \n",
       "Marathahalli                          22             2  \n",
       "New BEL Road                           8             8  \n",
       "Old Airport Road                      12             9  \n",
       "Rajajinagar                            3            10  \n",
       "Residency Road                        55            26  \n",
       "Richmond Road                         16            12  \n",
       "Sarjapur Road                         19            22  \n",
       "Shanti Nagar                           9             2  \n",
       "Shivajinagar                           7             8  \n",
       "St. Marks Road                        40            22  \n",
       "Ulsoor                                23            30  \n",
       "Whitefield                            47            33  \n",
       "others                                75            47  "
      ]
     },
     "execution_count": 33,
     "metadata": {},
     "output_type": "execute_result"
    }
   ],
   "source": [
    "df3 = df.groupby(['location','Type'])['name'].count()\n",
    "df3.to_csv('location_Type.csv')\n",
    "df3 = pd.read_csv('location_Type.csv')\n",
    "df3 = pd.pivot_table(df3, values=None, index=['location'], columns=['Type'], fill_value=0, aggfunc=np.sum)\n",
    "df3"
   ]
  },
  {
   "cell_type": "code",
   "execution_count": 34,
   "id": "786c454e",
   "metadata": {
    "execution": {
     "iopub.execute_input": "2021-08-12T11:55:42.825772Z",
     "iopub.status.busy": "2021-08-12T11:55:42.825132Z",
     "iopub.status.idle": "2021-08-12T11:55:44.426833Z",
     "shell.execute_reply": "2021-08-12T11:55:44.427453Z",
     "shell.execute_reply.started": "2021-08-12T11:53:23.775512Z"
    },
    "papermill": {
     "duration": 1.682956,
     "end_time": "2021-08-12T11:55:44.427658",
     "exception": false,
     "start_time": "2021-08-12T11:55:42.744702",
     "status": "completed"
    },
    "tags": []
   },
   "outputs": [
    {
     "data": {
      "text/plain": [
       "<AxesSubplot:xlabel='location'>"
      ]
     },
     "execution_count": 34,
     "metadata": {},
     "output_type": "execute_result"
    },
    {
     "data": {
      "image/png": "[encoded data removed]",
      "text/plain": [
       "<Figure size 2592x576 with 1 Axes>"
      ]
     },
     "metadata": {
      "needs_background": "light"
     },
     "output_type": "display_data"
    }
   ],
   "source": [
    "df3.plot(kind = 'bar', figsize = (36,8))"
   ]
  },
  {
   "cell_type": "code",
   "execution_count": 35,
   "id": "fad4c2ca",
   "metadata": {
    "execution": {
     "iopub.execute_input": "2021-08-12T11:55:44.583609Z",
     "iopub.status.busy": "2021-08-12T11:55:44.582660Z",
     "iopub.status.idle": "2021-08-12T11:55:44.586607Z",
     "shell.execute_reply": "2021-08-12T11:55:44.587111Z",
     "shell.execute_reply.started": "2021-08-12T11:53:43.528437Z"
    },
    "papermill": {
     "duration": 0.081364,
     "end_time": "2021-08-12T11:55:44.587299",
     "exception": false,
     "start_time": "2021-08-12T11:55:44.505935",
     "status": "completed"
    },
    "tags": []
   },
   "outputs": [
    {
     "data": {
      "text/html": [
       "<div>\n",
       "<style scoped>\n",
       "    .dataframe tbody tr th:only-of-type {\n",
       "        vertical-align: middle;\n",
       "    }\n",
       "\n",
       "    .dataframe tbody tr th {\n",
       "        vertical-align: top;\n",
       "    }\n",
       "\n",
       "    .dataframe thead th {\n",
       "        text-align: right;\n",
       "    }\n",
       "</style>\n",
       "<table border=\"1\" class=\"dataframe\">\n",
       "  <thead>\n",
       "    <tr style=\"text-align: right;\">\n",
       "      <th></th>\n",
       "      <th>name</th>\n",
       "      <th>online_order</th>\n",
       "      <th>book_table</th>\n",
       "      <th>rate</th>\n",
       "      <th>votes</th>\n",
       "      <th>location</th>\n",
       "      <th>rest_type</th>\n",
       "      <th>cuisines</th>\n",
       "      <th>Cost2plates</th>\n",
       "      <th>Type</th>\n",
       "    </tr>\n",
       "  </thead>\n",
       "  <tbody>\n",
       "    <tr>\n",
       "      <th>0</th>\n",
       "      <td>Jalsa</td>\n",
       "      <td>Yes</td>\n",
       "      <td>Yes</td>\n",
       "      <td>4.1</td>\n",
       "      <td>775</td>\n",
       "      <td>Banashankari</td>\n",
       "      <td>Casual Dining</td>\n",
       "      <td>North Indian, Mughlai, Chinese</td>\n",
       "      <td>800.0</td>\n",
       "      <td>Buffet</td>\n",
       "    </tr>\n",
       "    <tr>\n",
       "      <th>1</th>\n",
       "      <td>Spice Elephant</td>\n",
       "      <td>Yes</td>\n",
       "      <td>No</td>\n",
       "      <td>4.1</td>\n",
       "      <td>787</td>\n",
       "      <td>Banashankari</td>\n",
       "      <td>Casual Dining</td>\n",
       "      <td>others</td>\n",
       "      <td>800.0</td>\n",
       "      <td>Buffet</td>\n",
       "    </tr>\n",
       "    <tr>\n",
       "      <th>2</th>\n",
       "      <td>San Churro Cafe</td>\n",
       "      <td>Yes</td>\n",
       "      <td>No</td>\n",
       "      <td>3.8</td>\n",
       "      <td>918</td>\n",
       "      <td>Banashankari</td>\n",
       "      <td>others</td>\n",
       "      <td>others</td>\n",
       "      <td>800.0</td>\n",
       "      <td>Buffet</td>\n",
       "    </tr>\n",
       "    <tr>\n",
       "      <th>3</th>\n",
       "      <td>Addhuri Udupi Bhojana</td>\n",
       "      <td>No</td>\n",
       "      <td>No</td>\n",
       "      <td>3.7</td>\n",
       "      <td>88</td>\n",
       "      <td>Banashankari</td>\n",
       "      <td>Quick Bites</td>\n",
       "      <td>South Indian, North Indian</td>\n",
       "      <td>300.0</td>\n",
       "      <td>Buffet</td>\n",
       "    </tr>\n",
       "    <tr>\n",
       "      <th>4</th>\n",
       "      <td>Grand Village</td>\n",
       "      <td>No</td>\n",
       "      <td>No</td>\n",
       "      <td>3.8</td>\n",
       "      <td>166</td>\n",
       "      <td>Basavanagudi</td>\n",
       "      <td>Casual Dining</td>\n",
       "      <td>others</td>\n",
       "      <td>600.0</td>\n",
       "      <td>Buffet</td>\n",
       "    </tr>\n",
       "  </tbody>\n",
       "</table>\n",
       "</div>"
      ],
      "text/plain": [
       "                    name online_order book_table  rate  votes      location  \\\n",
       "0                  Jalsa          Yes        Yes   4.1    775  Banashankari   \n",
       "1         Spice Elephant          Yes         No   4.1    787  Banashankari   \n",
       "2        San Churro Cafe          Yes         No   3.8    918  Banashankari   \n",
       "3  Addhuri Udupi Bhojana           No         No   3.7     88  Banashankari   \n",
       "4          Grand Village           No         No   3.8    166  Basavanagudi   \n",
       "\n",
       "       rest_type                        cuisines  Cost2plates    Type  \n",
       "0  Casual Dining  North Indian, Mughlai, Chinese        800.0  Buffet  \n",
       "1  Casual Dining                          others        800.0  Buffet  \n",
       "2         others                          others        800.0  Buffet  \n",
       "3    Quick Bites      South Indian, North Indian        300.0  Buffet  \n",
       "4  Casual Dining                          others        600.0  Buffet  "
      ]
     },
     "execution_count": 35,
     "metadata": {},
     "output_type": "execute_result"
    }
   ],
   "source": [
    "df.head()"
   ]
  },
  {
   "cell_type": "code",
   "execution_count": null,
   "id": "201e7811",
   "metadata": {
    "papermill": {
     "duration": 0.059815,
     "end_time": "2021-08-12T11:55:44.707423",
     "exception": false,
     "start_time": "2021-08-12T11:55:44.647608",
     "status": "completed"
    },
    "tags": []
   },
   "outputs": [],
   "source": []
  }
 ],
 "metadata": {
  "kernelspec": {
   "display_name": "Python 3",
   "language": "python",
   "name": "python3"
  },
  "language_info": {
   "codemirror_mode": {
    "name": "ipython",
    "version": 3
   },
   "file_extension": ".py",
   "mimetype": "text/x-python",
   "name": "python",
   "nbconvert_exporter": "python",
   "pygments_lexer": "ipython3",
   "version": "3.7.10"
  },
  "papermill": {
   "default_parameters": {},
   "duration": 33.850287,
   "end_time": "2021-08-12T11:55:46.347610",
   "environment_variables": {},
   "exception": null,
   "input_path": "__notebook__.ipynb",
   "output_path": "__notebook__.ipynb",
   "parameters": {},
   "start_time": "2021-08-12T11:55:12.497323",
   "version": "2.3.3"
  }
 },
 "nbformat": 4,
 "nbformat_minor": 5
}
